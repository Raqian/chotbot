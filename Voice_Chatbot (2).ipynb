{
  "nbformat": 4,
  "nbformat_minor": 0,
  "metadata": {
    "colab": {
      "name": "Voice_Chatbot.ipynb",
      "provenance": []
    },
    "kernelspec": {
      "name": "python3",
      "display_name": "Python 3"
    }
  },
  "cells": [
    {
      "cell_type": "markdown",
      "metadata": {
        "id": "7qh63PJl3ad7"
      },
      "source": [
        "Packages and Libraries Installation"
      ]
    },
    {
      "cell_type": "code",
      "metadata": {
        "colab": {
          "base_uri": "https://localhost:8080/"
        },
        "id": "B-J1enoRtq0J",
        "outputId": "e0d70e75-1bbf-4386-e5b4-47a59e835618"
      },
      "source": [
        "!pip install SpeechRecognition numpy gTTs sklearn"
      ],
      "execution_count": null,
      "outputs": [
        {
          "output_type": "stream",
          "text": [
            "Collecting SpeechRecognition\n",
            "\u001b[?25l  Downloading https://files.pythonhosted.org/packages/26/e1/7f5678cd94ec1234269d23756dbdaa4c8cfaed973412f88ae8adf7893a50/SpeechRecognition-3.8.1-py2.py3-none-any.whl (32.8MB)\n",
            "\u001b[K     |████████████████████████████████| 32.8MB 121kB/s \n",
            "\u001b[?25hRequirement already satisfied: numpy in /usr/local/lib/python3.7/dist-packages (1.19.5)\n",
            "Collecting gTTs\n",
            "  Downloading https://files.pythonhosted.org/packages/5f/b9/94e59337107be134b21ce395a29fc0715b707b560108d6797de2d93e1178/gTTS-2.2.2-py3-none-any.whl\n",
            "Requirement already satisfied: sklearn in /usr/local/lib/python3.7/dist-packages (0.0)\n",
            "Requirement already satisfied: six in /usr/local/lib/python3.7/dist-packages (from gTTs) (1.15.0)\n",
            "Requirement already satisfied: requests in /usr/local/lib/python3.7/dist-packages (from gTTs) (2.23.0)\n",
            "Requirement already satisfied: click in /usr/local/lib/python3.7/dist-packages (from gTTs) (7.1.2)\n",
            "Requirement already satisfied: scikit-learn in /usr/local/lib/python3.7/dist-packages (from sklearn) (0.22.2.post1)\n",
            "Requirement already satisfied: certifi>=2017.4.17 in /usr/local/lib/python3.7/dist-packages (from requests->gTTs) (2020.12.5)\n",
            "Requirement already satisfied: urllib3!=1.25.0,!=1.25.1,<1.26,>=1.21.1 in /usr/local/lib/python3.7/dist-packages (from requests->gTTs) (1.24.3)\n",
            "Requirement already satisfied: idna<3,>=2.5 in /usr/local/lib/python3.7/dist-packages (from requests->gTTs) (2.10)\n",
            "Requirement already satisfied: chardet<4,>=3.0.2 in /usr/local/lib/python3.7/dist-packages (from requests->gTTs) (3.0.4)\n",
            "Requirement already satisfied: joblib>=0.11 in /usr/local/lib/python3.7/dist-packages (from scikit-learn->sklearn) (1.0.1)\n",
            "Requirement already satisfied: scipy>=0.17.0 in /usr/local/lib/python3.7/dist-packages (from scikit-learn->sklearn) (1.4.1)\n",
            "Installing collected packages: SpeechRecognition, gTTs\n",
            "Successfully installed SpeechRecognition-3.8.1 gTTs-2.2.2\n"
          ],
          "name": "stdout"
        }
      ]
    },
    {
      "cell_type": "code",
      "metadata": {
        "colab": {
          "base_uri": "https://localhost:8080/"
        },
        "id": "94jXPCiVuRO2",
        "outputId": "5c3ad74e-69d1-4508-b1af-5f223a3ca7b9"
      },
      "source": [
        "!apt-get install mpg123\n",
        "!apt-get install portaudio19-dev python-all-dev python3-all-dev"
      ],
      "execution_count": null,
      "outputs": [
        {
          "output_type": "stream",
          "text": [
            "Reading package lists... Done\n",
            "Building dependency tree       \n",
            "Reading state information... Done\n",
            "The following additional packages will be installed:\n",
            "  libaudio2 libout123-0 libportaudio2\n",
            "Suggested packages:\n",
            "  nas alsa-utils jackd oss-compat oss4-base pulseaudio\n",
            "The following NEW packages will be installed:\n",
            "  libaudio2 libout123-0 libportaudio2 mpg123\n",
            "0 upgraded, 4 newly installed, 0 to remove and 29 not upgraded.\n",
            "Need to get 269 kB of archives.\n",
            "After this operation, 922 kB of additional disk space will be used.\n",
            "Get:1 http://archive.ubuntu.com/ubuntu bionic/main amd64 libaudio2 amd64 1.9.4-6 [50.3 kB]\n",
            "Get:2 http://archive.ubuntu.com/ubuntu bionic/main amd64 libout123-0 amd64 1.25.10-1 [23.9 kB]\n",
            "Get:3 http://archive.ubuntu.com/ubuntu bionic/universe amd64 libportaudio2 amd64 19.6.0-1 [64.6 kB]\n",
            "Get:4 http://archive.ubuntu.com/ubuntu bionic/universe amd64 mpg123 amd64 1.25.10-1 [130 kB]\n",
            "Fetched 269 kB in 1s (417 kB/s)\n",
            "Selecting previously unselected package libaudio2:amd64.\n",
            "(Reading database ... 160975 files and directories currently installed.)\n",
            "Preparing to unpack .../libaudio2_1.9.4-6_amd64.deb ...\n",
            "Unpacking libaudio2:amd64 (1.9.4-6) ...\n",
            "Selecting previously unselected package libout123-0:amd64.\n",
            "Preparing to unpack .../libout123-0_1.25.10-1_amd64.deb ...\n",
            "Unpacking libout123-0:amd64 (1.25.10-1) ...\n",
            "Selecting previously unselected package libportaudio2:amd64.\n",
            "Preparing to unpack .../libportaudio2_19.6.0-1_amd64.deb ...\n",
            "Unpacking libportaudio2:amd64 (19.6.0-1) ...\n",
            "Selecting previously unselected package mpg123.\n",
            "Preparing to unpack .../mpg123_1.25.10-1_amd64.deb ...\n",
            "Unpacking mpg123 (1.25.10-1) ...\n",
            "Setting up libout123-0:amd64 (1.25.10-1) ...\n",
            "Setting up libportaudio2:amd64 (19.6.0-1) ...\n",
            "Setting up libaudio2:amd64 (1.9.4-6) ...\n",
            "Setting up mpg123 (1.25.10-1) ...\n",
            "update-alternatives: using /usr/bin/mpg123.bin to provide /usr/bin/mpg123 (mpg123) in auto mode\n",
            "update-alternatives: using /usr/bin/mpg123.bin to provide /usr/bin/mp3-decoder (mp3-decoder) in auto mode\n",
            "Processing triggers for mime-support (3.60ubuntu1) ...\n",
            "Processing triggers for libc-bin (2.27-3ubuntu1.2) ...\n",
            "/sbin/ldconfig.real: /usr/local/lib/python3.7/dist-packages/ideep4py/lib/libmkldnn.so.0 is not a symbolic link\n",
            "\n",
            "Processing triggers for man-db (2.8.3-2ubuntu0.1) ...\n",
            "Reading package lists... Done\n",
            "Building dependency tree       \n",
            "Reading state information... Done\n",
            "The following additional packages will be installed:\n",
            "  libportaudiocpp0 libpython-all-dev libpython3-all-dev python-all python3-all\n",
            "Suggested packages:\n",
            "  portaudio19-doc\n",
            "The following NEW packages will be installed:\n",
            "  libportaudiocpp0 libpython-all-dev libpython3-all-dev portaudio19-dev\n",
            "  python-all python-all-dev python3-all python3-all-dev\n",
            "0 upgraded, 8 newly installed, 0 to remove and 29 not upgraded.\n",
            "Need to get 126 kB of archives.\n",
            "After this operation, 713 kB of additional disk space will be used.\n",
            "Get:1 http://archive.ubuntu.com/ubuntu bionic/universe amd64 libportaudiocpp0 amd64 19.6.0-1 [15.1 kB]\n",
            "Get:2 http://archive.ubuntu.com/ubuntu bionic/main amd64 libpython-all-dev amd64 2.7.15~rc1-1 [1,092 B]\n",
            "Get:3 http://archive.ubuntu.com/ubuntu bionic-updates/main amd64 libpython3-all-dev amd64 3.6.7-1~18.04 [1,096 B]\n",
            "Get:4 http://archive.ubuntu.com/ubuntu bionic/universe amd64 portaudio19-dev amd64 19.6.0-1 [104 kB]\n",
            "Get:5 http://archive.ubuntu.com/ubuntu bionic/main amd64 python-all amd64 2.7.15~rc1-1 [1,076 B]\n",
            "Get:6 http://archive.ubuntu.com/ubuntu bionic/main amd64 python-all-dev amd64 2.7.15~rc1-1 [1,100 B]\n",
            "Get:7 http://archive.ubuntu.com/ubuntu bionic-updates/main amd64 python3-all amd64 3.6.7-1~18.04 [1,092 B]\n",
            "Get:8 http://archive.ubuntu.com/ubuntu bionic-updates/main amd64 python3-all-dev amd64 3.6.7-1~18.04 [1,100 B]\n",
            "Fetched 126 kB in 1s (228 kB/s)\n",
            "Selecting previously unselected package libportaudiocpp0:amd64.\n",
            "(Reading database ... 161036 files and directories currently installed.)\n",
            "Preparing to unpack .../0-libportaudiocpp0_19.6.0-1_amd64.deb ...\n",
            "Unpacking libportaudiocpp0:amd64 (19.6.0-1) ...\n",
            "Selecting previously unselected package libpython-all-dev:amd64.\n",
            "Preparing to unpack .../1-libpython-all-dev_2.7.15~rc1-1_amd64.deb ...\n",
            "Unpacking libpython-all-dev:amd64 (2.7.15~rc1-1) ...\n",
            "Selecting previously unselected package libpython3-all-dev:amd64.\n",
            "Preparing to unpack .../2-libpython3-all-dev_3.6.7-1~18.04_amd64.deb ...\n",
            "Unpacking libpython3-all-dev:amd64 (3.6.7-1~18.04) ...\n",
            "Selecting previously unselected package portaudio19-dev:amd64.\n",
            "Preparing to unpack .../3-portaudio19-dev_19.6.0-1_amd64.deb ...\n",
            "Unpacking portaudio19-dev:amd64 (19.6.0-1) ...\n",
            "Selecting previously unselected package python-all.\n",
            "Preparing to unpack .../4-python-all_2.7.15~rc1-1_amd64.deb ...\n",
            "Unpacking python-all (2.7.15~rc1-1) ...\n",
            "Selecting previously unselected package python-all-dev.\n",
            "Preparing to unpack .../5-python-all-dev_2.7.15~rc1-1_amd64.deb ...\n",
            "Unpacking python-all-dev (2.7.15~rc1-1) ...\n",
            "Selecting previously unselected package python3-all.\n",
            "Preparing to unpack .../6-python3-all_3.6.7-1~18.04_amd64.deb ...\n",
            "Unpacking python3-all (3.6.7-1~18.04) ...\n",
            "Selecting previously unselected package python3-all-dev.\n",
            "Preparing to unpack .../7-python3-all-dev_3.6.7-1~18.04_amd64.deb ...\n",
            "Unpacking python3-all-dev (3.6.7-1~18.04) ...\n",
            "Setting up libportaudiocpp0:amd64 (19.6.0-1) ...\n",
            "Setting up portaudio19-dev:amd64 (19.6.0-1) ...\n",
            "Setting up libpython-all-dev:amd64 (2.7.15~rc1-1) ...\n",
            "Setting up libpython3-all-dev:amd64 (3.6.7-1~18.04) ...\n",
            "Setting up python3-all (3.6.7-1~18.04) ...\n",
            "Setting up python-all (2.7.15~rc1-1) ...\n",
            "Setting up python3-all-dev (3.6.7-1~18.04) ...\n",
            "Setting up python-all-dev (2.7.15~rc1-1) ...\n",
            "Processing triggers for libc-bin (2.27-3ubuntu1.2) ...\n",
            "/sbin/ldconfig.real: /usr/local/lib/python3.7/dist-packages/ideep4py/lib/libmkldnn.so.0 is not a symbolic link\n",
            "\n"
          ],
          "name": "stdout"
        }
      ]
    },
    {
      "cell_type": "code",
      "metadata": {
        "colab": {
          "base_uri": "https://localhost:8080/"
        },
        "id": "SEJFEj6RudWI",
        "outputId": "359a6e80-08ad-43d8-c730-073b2c426665"
      },
      "source": [
        "import io\n",
        "import random\n",
        "import string\n",
        "import warnings\n",
        "import numpy as np\n",
        "from sklearn.feature_extraction.text import TfidfVectorizer\n",
        "from sklearn.metrics.pairwise import cosine_similarity\n",
        "import warnings\n",
        "from gtts import gTTS\n",
        "import os\n",
        "warnings.filterwarnings('ignore')\n",
        "import speech_recognition as sr \n",
        "import nltk\n",
        "from nltk.stem import WordNetLemmatizer\n",
        "#for downloading package files can be commented after First run\n",
        "nltk.download('popular', quiet=True)\n",
        "nltk.download('nps_chat',quiet=True)\n",
        "nltk.download('punkt') \n",
        "nltk.download('wordnet')"
      ],
      "execution_count": null,
      "outputs": [
        {
          "output_type": "stream",
          "text": [
            "[nltk_data] Downloading package punkt to /root/nltk_data...\n",
            "[nltk_data]   Package punkt is already up-to-date!\n",
            "[nltk_data] Downloading package wordnet to /root/nltk_data...\n",
            "[nltk_data]   Package wordnet is already up-to-date!\n"
          ],
          "name": "stdout"
        },
        {
          "output_type": "execute_result",
          "data": {
            "text/plain": [
              "True"
            ]
          },
          "metadata": {
            "tags": []
          },
          "execution_count": 3
        }
      ]
    },
    {
      "cell_type": "code",
      "metadata": {
        "colab": {
          "base_uri": "https://localhost:8080/"
        },
        "id": "RWGD2vyM35Ct",
        "outputId": "0b2492dc-9f10-4d57-bd93-159c24aaf391"
      },
      "source": [
        "!apt install libasound2-dev portaudio19-dev libportaudio2 libportaudiocpp0 ffmpeg\r\n",
        "!pip install pyaudio"
      ],
      "execution_count": null,
      "outputs": [
        {
          "output_type": "stream",
          "text": [
            "Reading package lists... Done\n",
            "Building dependency tree       \n",
            "Reading state information... Done\n",
            "libportaudio2 is already the newest version (19.6.0-1).\n",
            "libportaudio2 set to manually installed.\n",
            "libportaudiocpp0 is already the newest version (19.6.0-1).\n",
            "libportaudiocpp0 set to manually installed.\n",
            "portaudio19-dev is already the newest version (19.6.0-1).\n",
            "libasound2-dev is already the newest version (1.1.3-5ubuntu0.5).\n",
            "ffmpeg is already the newest version (7:3.4.8-0ubuntu0.2).\n",
            "0 upgraded, 0 newly installed, 0 to remove and 29 not upgraded.\n",
            "Collecting pyaudio\n",
            "  Downloading https://files.pythonhosted.org/packages/ab/42/b4f04721c5c5bfc196ce156b3c768998ef8c0ae3654ed29ea5020c749a6b/PyAudio-0.2.11.tar.gz\n",
            "Building wheels for collected packages: pyaudio\n",
            "  Building wheel for pyaudio (setup.py) ... \u001b[?25l\u001b[?25hdone\n",
            "  Created wheel for pyaudio: filename=PyAudio-0.2.11-cp37-cp37m-linux_x86_64.whl size=52582 sha256=e5c80c2d9033906716823d0241a2e901fdbe5e0033068f083a1b633229264d4d\n",
            "  Stored in directory: /root/.cache/pip/wheels/f4/a8/a4/292214166c2917890f85b2f72a8e5f13e1ffa527c4200dcede\n",
            "Successfully built pyaudio\n",
            "Installing collected packages: pyaudio\n",
            "Successfully installed pyaudio-0.2.11\n"
          ],
          "name": "stdout"
        }
      ]
    },
    {
      "cell_type": "code",
      "metadata": {
        "colab": {
          "base_uri": "https://localhost:8080/"
        },
        "id": "cOvHZEbJ4AA6",
        "outputId": "5ac4ca33-191a-401d-fb7d-557edd923f4e"
      },
      "source": [
        "!apt install libasound2-dev portaudio19-dev libportaudio2 libportaudiocpp0 ffmpeg\r\n",
        "!pip install PyAudio\r\n",
        "!pip install ffmpeg-python"
      ],
      "execution_count": null,
      "outputs": [
        {
          "output_type": "stream",
          "text": [
            "Reading package lists... Done\n",
            "Building dependency tree       \n",
            "Reading state information... Done\n",
            "libportaudio2 is already the newest version (19.6.0-1).\n",
            "libportaudiocpp0 is already the newest version (19.6.0-1).\n",
            "portaudio19-dev is already the newest version (19.6.0-1).\n",
            "libasound2-dev is already the newest version (1.1.3-5ubuntu0.5).\n",
            "ffmpeg is already the newest version (7:3.4.8-0ubuntu0.2).\n",
            "0 upgraded, 0 newly installed, 0 to remove and 29 not upgraded.\n",
            "Requirement already satisfied: PyAudio in /usr/local/lib/python3.7/dist-packages (0.2.11)\n",
            "Collecting ffmpeg-python\n",
            "  Downloading https://files.pythonhosted.org/packages/d7/0c/56be52741f75bad4dc6555991fabd2e07b432d333da82c11ad701123888a/ffmpeg_python-0.2.0-py3-none-any.whl\n",
            "Requirement already satisfied: future in /usr/local/lib/python3.7/dist-packages (from ffmpeg-python) (0.16.0)\n",
            "Installing collected packages: ffmpeg-python\n",
            "Successfully installed ffmpeg-python-0.2.0\n"
          ],
          "name": "stdout"
        }
      ]
    },
    {
      "cell_type": "code",
      "metadata": {
        "id": "eVZLNbk_5fGC"
      },
      "source": [
        "from __future__ import print_function\r\n",
        "import scipy.io.wavfile as wavf\r\n",
        "import numpy as np"
      ],
      "execution_count": null,
      "outputs": []
    },
    {
      "cell_type": "code",
      "metadata": {
        "colab": {
          "base_uri": "https://localhost:8080/"
        },
        "id": "q7YZxlC25nwW",
        "outputId": "c2190214-6d40-4d6c-84f6-264fd1ed35f7"
      },
      "source": [
        "!pip3 install SpeechRecognition pydub \r\n",
        "# importing libraries\r\n",
        "!pip3 install SpeechRecognition pydub"
      ],
      "execution_count": null,
      "outputs": [
        {
          "output_type": "stream",
          "text": [
            "Requirement already satisfied: SpeechRecognition in /usr/local/lib/python3.7/dist-packages (3.8.1)\n",
            "Collecting pydub\n",
            "  Downloading https://files.pythonhosted.org/packages/7b/d1/fbfa79371a8cd9bb15c2e3c480d7e6e340ed5cc55005174e16f48418333a/pydub-0.24.1-py2.py3-none-any.whl\n",
            "Installing collected packages: pydub\n",
            "Successfully installed pydub-0.24.1\n",
            "Requirement already satisfied: SpeechRecognition in /usr/local/lib/python3.7/dist-packages (3.8.1)\n",
            "Requirement already satisfied: pydub in /usr/local/lib/python3.7/dist-packages (0.24.1)\n"
          ],
          "name": "stdout"
        }
      ]
    },
    {
      "cell_type": "code",
      "metadata": {
        "id": "-DdoZtaM508D"
      },
      "source": [
        "import speech_recognition as sr \r\n",
        "import os \r\n",
        "from pydub import AudioSegment\r\n",
        "from pydub.silence import split_on_silence"
      ],
      "execution_count": null,
      "outputs": []
    },
    {
      "cell_type": "markdown",
      "metadata": {
        "id": "t85Fdrfk9g33"
      },
      "source": [
        "# **VOICE CHATBOT**"
      ]
    },
    {
      "cell_type": "markdown",
      "metadata": {
        "id": "mYRZ4i4T-S7d"
      },
      "source": [
        "1. We will write a function to classify user input, which uses nps_chat corpora and naive Bayes classifier to categorize the input type by classifying them into listed categories.Where else Bot will answer only to Question type classes.\r\n",
        "\r\n",
        "Greet\r\n",
        "\r\n",
        "”Bye”>\r\n",
        "\r\n",
        "”Clarify”>\r\n",
        "\r\n",
        "”Continuer”>\r\n",
        "\r\n",
        "”Emotion”>\r\n",
        "\r\n",
        "”Emphasis”>\r\n",
        "\r\n",
        "”Greet”>\r\n",
        "\r\n",
        "”Reject”>\r\n",
        "\r\n",
        "”Statement”>\r\n",
        "\r\n",
        "”System”>\r\n",
        "\r\n",
        "”nAnswer”>\r\n",
        "\r\n",
        "”whQuestion”>\r\n",
        "\r\n",
        "”yAnswer”>\r\n",
        "\r\n",
        "”ynQuestion”>\r\n",
        "\r\n",
        "”Other”\r\n"
      ]
    },
    {
      "cell_type": "code",
      "metadata": {
        "id": "xICmdQmgwTXg"
      },
      "source": [
        "posts = nltk.corpus.nps_chat.xml_posts()[:10000]\n",
        "# To Recognise input type as QUES. \n",
        "def dialogue_act_features(post):\n",
        "    features = {}\n",
        "    for word in nltk.word_tokenize(post):\n",
        "        features['contains({})'.format(word.lower())] = True\n",
        "    return features\n",
        "featuresets = [(dialogue_act_features(post.text), post.get('class')) for post in posts]\n",
        "size = int(len(featuresets) * 0.1)\n",
        "train_set, test_set = featuresets[size:], featuresets[:size]\n",
        "classifier = nltk.NaiveBayesClassifier.train(train_set)"
      ],
      "execution_count": null,
      "outputs": []
    },
    {
      "cell_type": "markdown",
      "metadata": {
        "id": "r057w8lQ_kW1"
      },
      "source": [
        "2) A greeting function : to make the chatbot more engaging and interactive."
      ]
    },
    {
      "cell_type": "code",
      "metadata": {
        "id": "fKfwJlYmxSk1"
      },
      "source": [
        "# Keyword Matching\n",
        "GREETING_INPUTS = (\"hello\", \"hi\", \"greetings\", \"sup\", \"what's up\",\"hey\",)\n",
        "GREETING_RESPONSES = [\"hi\", \"hey\", \"*nods*\", \"hi there\", \"hello\", \"I am glad! You are talking to me\"]\n",
        "def greeting(sentence):\n",
        "    \"\"\"If user's input is a greeting, return a greeting response\"\"\"\n",
        "    for word in sentence.split():\n",
        "        if word.lower() in GREETING_INPUTS:\n",
        "            return random.choice(GREETING_RESPONSES)"
      ],
      "execution_count": null,
      "outputs": []
    },
    {
      "cell_type": "markdown",
      "metadata": {
        "id": "dfJJLs3WAf0s"
      },
      "source": [
        "3) Data Preprocessing:\r\n",
        "\r\n",
        "Call Corpus of our chatbot and perform some NLP pre-processing steps on it, i.e., **Sentence and Word Tokenization, Lemmatization, Normalisation**.\r\n",
        "\r\n",
        "Tokenization: Chopping it up into pieces, called tokens.\r\n",
        "  * Sentence : Based on punctuations such as “.”, “?”, “!” as they tend to mark the sentence boundaries.\r\n",
        "  * Word Tokenization : Separate words via unique space character.\r\n",
        "\r\n",
        "Lemmatization : Reduce a word to its Lemma, or Canonical Form (Dictionary words form).\r\n",
        "\r\n",
        "For e.g : plural->singular, verbs, time/participle variants -> present tense (ate-> eat) etc.  \r\n",
        "\r\n",
        "Corpus : \"intro_join.txt\" file(a article pasted from wikipedia)"
      ]
    },
    {
      "cell_type": "code",
      "metadata": {
        "id": "qh58YHqxxfyP"
      },
      "source": [
        "#Reading in the input_corpus\n",
        "with open('intro_join.txt','r', encoding='utf8', errors ='ignore') as fin:\n",
        "    raw = fin.read().lower()\n",
        "#TOkenisation\n",
        "sent_tokens = nltk.sent_tokenize(raw)# converts to list of sentences \n",
        "word_tokens = nltk.word_tokenize(raw)# converts to list of words\n",
        "# Preprocessing\n",
        "lemmer = WordNetLemmatizer()\n",
        "def LemTokens(tokens):\n",
        "    return [lemmer.lemmatize(token) for token in tokens]\n",
        "remove_punct_dict = dict((ord(punct), None) for punct in string.punctuation)\n",
        "def LemNormalize(text):\n",
        "    return LemTokens(nltk.word_tokenize(text.lower().translate(remove_punct_dict)))"
      ],
      "execution_count": null,
      "outputs": []
    },
    {
      "cell_type": "markdown",
      "metadata": {
        "id": "fjBlmIfJEsOw"
      },
      "source": [
        "4) Color pallet: A list of functions using the format command, for adding color to std terminal output."
      ]
    },
    {
      "cell_type": "code",
      "metadata": {
        "id": "ceVY0evz3mEI"
      },
      "source": [
        "#colour palet\n",
        "def prRed(skk): print(\"\\033[91m {}\\033[00m\" .format(skk)) \n",
        "def prGreen(skk): print(\"\\033[92m {}\\033[00m\" .format(skk)) \n",
        "def prYellow(skk): print(\"\\033[93m {}\\033[00m\" .format(skk)) \n",
        "def prLightPurple(skk): print(\"\\033[94m {}\\033[00m\" .format(skk)) \n",
        "def prPurple(skk): print(\"\\033[95m {}\\033[00m\" .format(skk)) \n",
        "def prCyan(skk): print(\"\\033[96m {}\\033[00m\" .format(skk)) \n",
        "def prLightGray(skk): print(\"\\033[97m {}\\033[00m\" .format(skk)) \n",
        "def prBlack(skk): print(\"\\033[98m {}\\033[00m\" .format(skk))\n"
      ],
      "execution_count": null,
      "outputs": []
    },
    {
      "cell_type": "markdown",
      "metadata": {
        "id": "6u02DQhnE-nY"
      },
      "source": [
        "5) Response function : Processing the user response converting it into a vectorized form and get the best result from Corpus via computing TF-IDF cosine similarity between the question and answer.\r\n",
        "\r\n",
        "**Document Similarity** is a concept which involves determination of how similar two or more documents are with respect to each other.\r\n",
        "\r\n",
        "Represent documents as vectors using **TF-IDF**. Once we have the vector representation, we can similarly find the similarity using any of the similarity metrics such as cosine similarity.\r\n",
        "\r\n",
        "**Cosine similarity** defines the similarity between two or more documents by measuring cosine of angle between two vectors derived from the documents."
      ]
    },
    {
      "cell_type": "code",
      "metadata": {
        "id": "J9fVgaI5FB6S"
      },
      "source": [
        "# Generating response and processing \r\n",
        "def response(user_response):\r\n",
        "    robo_response=''\r\n",
        "    sent_tokens.append(user_response)\r\n",
        "    TfidfVec = TfidfVectorizer(tokenizer=LemNormalize, stop_words='english')  #Calculate document vector\r\n",
        "    tfidf = TfidfVec.fit_transform(sent_tokens) #Calculate tf-idf for the given document \r\n",
        "    vals = cosine_similarity(tfidf[-1], tfidf)  #Calculate the Cosine Similarity\r\n",
        "    idx=vals.argsort()[0][-2]\r\n",
        "    flat = vals.flatten()\r\n",
        "    flat.sort()\r\n",
        "    req_tfidf = flat[-2]\r\n",
        "    if(req_tfidf==0):\r\n",
        "        robo_response=robo_response+\"I am sorry! I don't understand you\"\r\n",
        "        return robo_response\r\n",
        "    else:\r\n",
        "        robo_response = robo_response+sent_tokens[idx]\r\n",
        "        return robo_response"
      ],
      "execution_count": null,
      "outputs": []
    },
    {
      "cell_type": "markdown",
      "metadata": {
        "id": "Baw7MMkzLEbX"
      },
      "source": [
        "First message from Bot"
      ]
    },
    {
      "cell_type": "code",
      "metadata": {
        "colab": {
          "base_uri": "https://localhost:8080/",
          "height": 75
        },
        "id": "yzEHkybn2N4v",
        "outputId": "0e3de5f1-472b-4610-9c00-72e4cca7252a"
      },
      "source": [
        "from gtts import gTTS #Import Google Text to Speech\n",
        "from IPython.display import Audio #Import Audio method from IPython's Display Class\n",
        "tts = gTTS('My name is Kalpana. I will answer your queries about Science. If you want to exit, say Bye') #Provide the string to convert to speech\n",
        "tts.save('file.mp3') #save the string converted to speech as a .wav file\n",
        "sound_file = 'file.mp3'\n",
        "Audio(sound_file, autoplay=True) \n",
        "\n",
        "#Autoplay = True will play the sound automatically\n",
        "#If you would not like to play the sound automatically, simply pass Autoplay = False.\n"
      ],
      "execution_count": null,
      "outputs": [
        {
          "output_type": "execute_result",
          "data": {
            "text/html": [
              "\n",
              "                <audio controls=\"controls\" autoplay=\"autoplay\">\n",
              "                    <source src=\"data:audio/mpeg;base64,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\" type=\"audio/mpeg\" />\n",
              "                    Your browser does not support the audio element.\n",
              "                </audio>\n",
              "              "
            ],
            "text/plain": [
              "<IPython.lib.display.Audio object>"
            ]
          },
          "metadata": {
            "tags": []
          },
          "execution_count": 30
        }
      ]
    },
    {
      "cell_type": "code",
      "metadata": {
        "colab": {
          "base_uri": "https://localhost:8080/"
        },
        "id": "F7bWF0VTBm9r",
        "outputId": "37050ed6-2273-413d-c137-a4ce64e3274b"
      },
      "source": [
        "fst = 'My name is Kalpana. I will answer your queries about Science. If you want to exit, say Bye'\n",
        "r = sr.Recognizer()\n",
        "prYellow(fst)"
      ],
      "execution_count": null,
      "outputs": [
        {
          "output_type": "stream",
          "text": [
            "\u001b[93m My name is Kalpana. I will answer your queries about Science. If you want to exit, say Bye\u001b[00m\n"
          ],
          "name": "stdout"
        }
      ]
    },
    {
      "cell_type": "markdown",
      "metadata": {
        "id": "mJJVaNfSLgDo"
      },
      "source": [
        "TAKE INPUT VOICE FUNCTION:"
      ]
    },
    {
      "cell_type": "code",
      "metadata": {
        "id": "oRECd6CFonlf"
      },
      "source": [
        "from IPython.display import HTML, Audio\r\n",
        "from google.colab.output import eval_js\r\n",
        "from base64 import b64decode\r\n",
        "import numpy as np\r\n",
        "from scipy.io.wavfile import read as wav_read\r\n",
        "import io\r\n",
        "import ffmpeg\r\n",
        "\r\n",
        "AUDIO_HTML = \"\"\"\r\n",
        "<script>\r\n",
        "var my_div = document.createElement(\"DIV\");\r\n",
        "var my_p = document.createElement(\"P\");\r\n",
        "var my_btn = document.createElement(\"BUTTON\");\r\n",
        "var t = document.createTextNode(\"Press to start recording\");\r\n",
        "\r\n",
        "my_btn.appendChild(t);\r\n",
        "//my_p.appendChild(my_btn);\r\n",
        "my_div.appendChild(my_btn);\r\n",
        "document.body.appendChild(my_div);\r\n",
        "\r\n",
        "var base64data = 0;\r\n",
        "var reader;\r\n",
        "var recorder, gumStream;\r\n",
        "var recordButton = my_btn;\r\n",
        "\r\n",
        "var handleSuccess = function(stream) {\r\n",
        "  gumStream = stream;\r\n",
        "  var options = {\r\n",
        "    //bitsPerSecond: 8000, //chrome seems to ignore, always 48k\r\n",
        "    mimeType : 'audio/webm;codecs=opus'\r\n",
        "    //mimeType : 'audio/webm;codecs=pcm'\r\n",
        "  };            \r\n",
        "  //recorder = new MediaRecorder(stream, options);\r\n",
        "  recorder = new MediaRecorder(stream);\r\n",
        "  recorder.ondataavailable = function(e) {            \r\n",
        "    var url = URL.createObjectURL(e.data);\r\n",
        "    var preview = document.createElement('audio');\r\n",
        "    preview.controls = true;\r\n",
        "    preview.src = url;\r\n",
        "    document.body.appendChild(preview);\r\n",
        "\r\n",
        "    reader = new FileReader();\r\n",
        "    reader.readAsDataURL(e.data); \r\n",
        "    reader.onloadend = function() {\r\n",
        "      base64data = reader.result;\r\n",
        "      //console.log(\"Inside FileReader:\" + base64data);\r\n",
        "    }\r\n",
        "  };\r\n",
        "  recorder.start();\r\n",
        "  };\r\n",
        "\r\n",
        "recordButton.innerText = \"Recording... press to stop\";\r\n",
        "\r\n",
        "navigator.mediaDevices.getUserMedia({audio: true}).then(handleSuccess);\r\n",
        "\r\n",
        "\r\n",
        "function toggleRecording() {\r\n",
        "  if (recorder && recorder.state == \"recording\") {\r\n",
        "      recorder.stop();\r\n",
        "      gumStream.getAudioTracks()[0].stop();\r\n",
        "      recordButton.innerText = \"Saving the recording... pls wait!\"\r\n",
        "  }\r\n",
        "}\r\n",
        "\r\n",
        "// https://stackoverflow.com/a/951057\r\n",
        "function sleep(ms) {\r\n",
        "  return new Promise(resolve => setTimeout(resolve, ms));\r\n",
        "}\r\n",
        "\r\n",
        "var data = new Promise(resolve=>{\r\n",
        "//recordButton.addEventListener(\"click\", toggleRecording);\r\n",
        "recordButton.onclick = ()=>{\r\n",
        "toggleRecording()\r\n",
        "\r\n",
        "sleep(2000).then(() => {\r\n",
        "  // wait 2000ms for the data to be available...\r\n",
        "  // ideally this should use something like await...\r\n",
        "  //console.log(\"Inside data:\" + base64data)\r\n",
        "  resolve(base64data.toString())\r\n",
        "\r\n",
        "});\r\n",
        "\r\n",
        "}\r\n",
        "});\r\n",
        "      \r\n",
        "</script>\r\n",
        "\"\"\"\r\n",
        "\r\n",
        "def get_audio():\r\n",
        "  display(HTML(AUDIO_HTML))\r\n",
        "  data = eval_js(\"data\")\r\n",
        "  binary = b64decode(data.split(',')[1])\r\n",
        "  \r\n",
        "  process = (ffmpeg\r\n",
        "    .input('pipe:0')\r\n",
        "    .output('pipe:1', format='wav')\r\n",
        "    .run_async(pipe_stdin=True, pipe_stdout=True, pipe_stderr=True, quiet=True, overwrite_output=True)\r\n",
        "  )\r\n",
        "  output, err = process.communicate(input=binary)\r\n",
        "  \r\n",
        "  riff_chunk_size = len(output) - 8\r\n",
        "  # Break up the chunk size into four bytes, held in b.\r\n",
        "  q = riff_chunk_size\r\n",
        "  b = []\r\n",
        "  for i in range(4):\r\n",
        "      q, r = divmod(q, 256)\r\n",
        "      b.append(r)\r\n",
        "\r\n",
        "  # Replace bytes 4:8 in proc.stdout with the actual size of the RIFF chunk.\r\n",
        "  riff = output[:4] + bytes(b) + output[8:]\r\n",
        "\r\n",
        "  sr, audio = wav_read(io.BytesIO(riff))\r\n",
        "\r\n",
        "  return audio, sr\r\n"
      ],
      "execution_count": null,
      "outputs": []
    },
    {
      "cell_type": "code",
      "metadata": {
        "id": "liPhMuItrwvx"
      },
      "source": [
        "# create a speech recognition object\r\n",
        "r = sr.Recognizer()"
      ],
      "execution_count": null,
      "outputs": []
    },
    {
      "cell_type": "markdown",
      "metadata": {
        "id": "BKB-0mt4NirJ"
      },
      "source": [
        "Final user interface steps:\r\n",
        "\r\n",
        "1) Receive audio input from user.\r\n",
        "Convert the audio array into .wav file. \r\n",
        "\r\n",
        "2) Speech recognition of .wav file through get_large_audio_transcription(). [Converting it into text form]\r\n",
        "\r\n",
        "3) Searching for its answers from the processed Corpus, and returning the output.\r\n"
      ]
    },
    {
      "cell_type": "code",
      "metadata": {
        "colab": {
          "base_uri": "https://localhost:8080/",
          "height": 97
        },
        "id": "AI91jOMvwdJK",
        "outputId": "fe27f832-5a49-4c9f-d985-9229355d5108"
      },
      "source": [
        "audio,sr= get_audio()\r\n",
        "fs = sr\r\n",
        "out_f = 'o.wav'\r\n",
        "wavf.write(out_f, fs, audio)"
      ],
      "execution_count": null,
      "outputs": [
        {
          "output_type": "display_data",
          "data": {
            "text/html": [
              "\n",
              "<script>\n",
              "var my_div = document.createElement(\"DIV\");\n",
              "var my_p = document.createElement(\"P\");\n",
              "var my_btn = document.createElement(\"BUTTON\");\n",
              "var t = document.createTextNode(\"Press to start recording\");\n",
              "\n",
              "my_btn.appendChild(t);\n",
              "//my_p.appendChild(my_btn);\n",
              "my_div.appendChild(my_btn);\n",
              "document.body.appendChild(my_div);\n",
              "\n",
              "var base64data = 0;\n",
              "var reader;\n",
              "var recorder, gumStream;\n",
              "var recordButton = my_btn;\n",
              "\n",
              "var handleSuccess = function(stream) {\n",
              "  gumStream = stream;\n",
              "  var options = {\n",
              "    //bitsPerSecond: 8000, //chrome seems to ignore, always 48k\n",
              "    mimeType : 'audio/webm;codecs=opus'\n",
              "    //mimeType : 'audio/webm;codecs=pcm'\n",
              "  };            \n",
              "  //recorder = new MediaRecorder(stream, options);\n",
              "  recorder = new MediaRecorder(stream);\n",
              "  recorder.ondataavailable = function(e) {            \n",
              "    var url = URL.createObjectURL(e.data);\n",
              "    var preview = document.createElement('audio');\n",
              "    preview.controls = true;\n",
              "    preview.src = url;\n",
              "    document.body.appendChild(preview);\n",
              "\n",
              "    reader = new FileReader();\n",
              "    reader.readAsDataURL(e.data); \n",
              "    reader.onloadend = function() {\n",
              "      base64data = reader.result;\n",
              "      //console.log(\"Inside FileReader:\" + base64data);\n",
              "    }\n",
              "  };\n",
              "  recorder.start();\n",
              "  };\n",
              "\n",
              "recordButton.innerText = \"Recording... press to stop\";\n",
              "\n",
              "navigator.mediaDevices.getUserMedia({audio: true}).then(handleSuccess);\n",
              "\n",
              "\n",
              "function toggleRecording() {\n",
              "  if (recorder && recorder.state == \"recording\") {\n",
              "      recorder.stop();\n",
              "      gumStream.getAudioTracks()[0].stop();\n",
              "      recordButton.innerText = \"Saving the recording... pls wait!\"\n",
              "  }\n",
              "}\n",
              "\n",
              "// https://stackoverflow.com/a/951057\n",
              "function sleep(ms) {\n",
              "  return new Promise(resolve => setTimeout(resolve, ms));\n",
              "}\n",
              "\n",
              "var data = new Promise(resolve=>{\n",
              "//recordButton.addEventListener(\"click\", toggleRecording);\n",
              "recordButton.onclick = ()=>{\n",
              "toggleRecording()\n",
              "\n",
              "sleep(2000).then(() => {\n",
              "  // wait 2000ms for the data to be available...\n",
              "  // ideally this should use something like await...\n",
              "  //console.log(\"Inside data:\" + base64data)\n",
              "  resolve(base64data.toString())\n",
              "\n",
              "});\n",
              "\n",
              "}\n",
              "});\n",
              "      \n",
              "</script>\n"
            ],
            "text/plain": [
              "<IPython.core.display.HTML object>"
            ]
          },
          "metadata": {
            "tags": []
          }
        }
      ]
    },
    {
      "cell_type": "code",
      "metadata": {
        "colab": {
          "base_uri": "https://localhost:8080/"
        },
        "id": "dsc88-UYwr3Q",
        "outputId": "8c2798ab-75a9-4707-c703-c6d51a1d8a79"
      },
      "source": [
        "!pip3 install SpeechRecognition pydub \r\n",
        "# importing libraries\r\n",
        "!pip3 install SpeechRecognition pydub  \r\n",
        "import speech_recognition as sr \r\n",
        "import os \r\n",
        "from pydub import AudioSegment\r\n",
        "from pydub.silence import split_on_silence\r\n",
        "\r\n",
        "# create a speech recognition object\r\n",
        "r = sr.Recognizer()\r\n",
        "\r\n",
        "# a function that splits the audio file into chunks\r\n",
        "# and applies speech recognition\r\n",
        "def get_large_audio_transcription(path):\r\n",
        "    \"\"\"\r\n",
        "    Splitting the large audio file into chunks\r\n",
        "    and apply speech recognition on each of these chunks\r\n",
        "    \"\"\"\r\n",
        "    # open the audio file using pydub\r\n",
        "    sound = AudioSegment.from_wav(path)  \r\n",
        "    # split audio sound where silence is 700 miliseconds or more and get chunks\r\n",
        "    chunks = split_on_silence(sound,\r\n",
        "        # experiment with this value for your target audio file\r\n",
        "        min_silence_len = 500,\r\n",
        "        # adjust this per requirement\r\n",
        "        silence_thresh = sound.dBFS-14,\r\n",
        "        # keep the silence for 1 second, adjustable as well\r\n",
        "        keep_silence=500,\r\n",
        "    )\r\n",
        "    folder_name = \"audio-chunks\"\r\n",
        "    # create a directory to store the audio chunks\r\n",
        "    if not os.path.isdir(folder_name):\r\n",
        "        os.mkdir(folder_name)\r\n",
        "    whole_text = \"\"\r\n",
        "    # process each chunk \r\n",
        "    for i, audio_chunk in enumerate(chunks, start=1):\r\n",
        "        # export audio chunk and save it in\r\n",
        "        # the `folder_name` directory.\r\n",
        "        chunk_filename = os.path.join(folder_name, f\"chunk{i}.wav\")\r\n",
        "        audio_chunk.export(chunk_filename, format=\"wav\")\r\n",
        "        # recognize the chunk\r\n",
        "        with sr.AudioFile(chunk_filename) as source:\r\n",
        "            audio_listened = r.record(source)\r\n",
        "            # try converting it to text\r\n",
        "            try:\r\n",
        "                text = r.recognize_google(audio_listened)\r\n",
        "            except sr.UnknownValueError as e:\r\n",
        "                print(\"Error:\", str(e))\r\n",
        "            else:\r\n",
        "                text = f\"{text.capitalize()}. \"\r\n",
        "                print(chunk_filename, \":\", text)\r\n",
        "                whole_text += text\r\n",
        "    # return the text for all chunks detected\r\n",
        "    return whole_text\r\n",
        "\r\n",
        "path = \"o.wav\"\r\n",
        "print(\"\\nFull text:\", get_large_audio_transcription(path))"
      ],
      "execution_count": null,
      "outputs": [
        {
          "output_type": "stream",
          "text": [
            "Requirement already satisfied: SpeechRecognition in /usr/local/lib/python3.7/dist-packages (3.8.1)\n",
            "Requirement already satisfied: pydub in /usr/local/lib/python3.7/dist-packages (0.24.1)\n",
            "Requirement already satisfied: SpeechRecognition in /usr/local/lib/python3.7/dist-packages (3.8.1)\n",
            "Requirement already satisfied: pydub in /usr/local/lib/python3.7/dist-packages (0.24.1)\n",
            "audio-chunks/chunk1.wav : What is athlete's foot. \n",
            "\n",
            "Full text: What is athlete's foot. \n"
          ],
          "name": "stdout"
        }
      ]
    },
    {
      "cell_type": "code",
      "metadata": {
        "colab": {
          "base_uri": "https://localhost:8080/"
        },
        "id": "s-H6EDYl1JBx",
        "outputId": "ccf6eb8f-af42-4b17-a9ac-ac7bcf8a23d1"
      },
      "source": [
        "a=get_large_audio_transcription(path)"
      ],
      "execution_count": null,
      "outputs": [
        {
          "output_type": "stream",
          "text": [
            "audio-chunks/chunk1.wav : What is athlete's foot. \n"
          ],
          "name": "stdout"
        }
      ]
    },
    {
      "cell_type": "code",
      "metadata": {
        "colab": {
          "base_uri": "https://localhost:8080/",
          "height": 229
        },
        "id": "5iICQuQn06h3",
        "outputId": "540605e4-1cb5-4ad3-fdb2-3c7bd08b50ff"
      },
      "source": [
        "flag=True\r\n",
        "# Taking voice input and processing \r\n",
        "while(flag==True):\r\n",
        "  user_response = format(a)\r\n",
        "  print(\"\\033[91m {}\\033[00m\" .format(\"YOU SAID : \"+user_response))\r\n",
        "    \r\n",
        "    #user_response = input()\r\n",
        "    #user_response=user_response.lower()\r\n",
        "  clas=classifier.classify(dialogue_act_features(user_response))\r\n",
        "  if(clas!='Bye'):\r\n",
        "    if(clas=='Emotion'):\r\n",
        "      flag=False\r\n",
        "      prBlack(\"Kalpana: You are welcome..\")\r\n",
        "      ans=\"Kalpana: You are welcome..\"\r\n",
        "    else:\r\n",
        "      if(greeting(user_response)!=None):\r\n",
        "        flag=False\r\n",
        "        print(\"\\033[93m {}\\033[00m\" .format(\"Kalpana: \"+greeting(user_response)))\r\n",
        "        ans=greeting(user_response)\r\n",
        "      else:\r\n",
        "        print(\"\\033[93m {}\\033[00m\" .format(\"Kalpana: \",end=\"\"))\r\n",
        "        res=(response(user_response))\r\n",
        "        ans=res\r\n",
        "        prBlack(res)\r\n",
        "        sent_tokens.remove(user_response)\r\n",
        "        flag=False\r\n",
        "\r\n",
        "  else:\r\n",
        "    flag=False\r\n",
        "    prBlack(\"Kalpana: Bye! take care..\")\r\n",
        "\r\n",
        "ans=gTTS(ans)\r\n",
        "ans.save('file1.mp3') #save the string converted to speech as a .wav file\r\n",
        "sound_file = 'file1.mp3'\r\n",
        "Audio(sound_file, autoplay=True) \r\n",
        "       "
      ],
      "execution_count": null,
      "outputs": [
        {
          "output_type": "stream",
          "text": [
            "\u001b[91m YOU SAID : What is athlete's foot. \u001b[00m\n",
            "\u001b[93m Kalpana: \u001b[00m\n",
            "\u001b[98m [10]\n",
            "\n",
            "\n",
            "\n",
            "athlete's foot\n",
            "athlete's foot is divided into four categories or presentations: chronic interdigital athlete's foot, plantar (chronic scaly) athlete's foot (aka \"moccasin foot\"), acute ulcerative tinea pedis,[11] and vesiculobullous athlete's foot.\u001b[00m\n"
          ],
          "name": "stdout"
        },
        {
          "output_type": "execute_result",
          "data": {
            "text/html": [
              "\n",
              "                <audio controls=\"controls\" autoplay=\"autoplay\">\n",
              "                    <source src=\"data:audio/mpeg;base64,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\" type=\"audio/mpeg\" />\n",
              "                    Your browser does not support the audio element.\n",
              "                </audio>\n",
              "              "
            ],
            "text/plain": [
              "<IPython.lib.display.Audio object>"
            ]
          },
          "metadata": {
            "tags": []
          },
          "execution_count": 44
        }
      ]
    }
  ]
}