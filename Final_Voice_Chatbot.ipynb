{
  "nbformat": 4,
  "nbformat_minor": 0,
  "metadata": {
    "colab": {
      "name": "Copy of Voice_Chatbot (2).ipynb",
      "provenance": [],
      "collapsed_sections": [],
      "include_colab_link": true
    },
    "kernelspec": {
      "name": "python3",
      "display_name": "Python 3"
    },
    "accelerator": "GPU"
  },
  "cells": [
    {
      "cell_type": "markdown",
      "metadata": {
        "id": "view-in-github",
        "colab_type": "text"
      },
      "source": [
        "<a href=\"https://colab.research.google.com/github/vaishnavipatil29/Voice-Chatbot/blob/main/Final_Voice_Chatbot.ipynb\" target=\"_parent\"><img src=\"https://colab.research.google.com/assets/colab-badge.svg\" alt=\"Open In Colab\"/></a>"
      ]
    },
    {
      "cell_type": "markdown",
      "metadata": {
        "id": "7qh63PJl3ad7"
      },
      "source": [
        "Packages and Libraries Installation"
      ]
    },
    {
      "cell_type": "code",
      "metadata": {
        "id": "B-J1enoRtq0J"
      },
      "source": [
        "!pip install SpeechRecognition numpy gTTs sklearn"
      ],
      "execution_count": null,
      "outputs": []
    },
    {
      "cell_type": "code",
      "metadata": {
        "id": "94jXPCiVuRO2"
      },
      "source": [
        "!apt-get install mpg123\n",
        "!apt-get install portaudio19-dev python-all-dev python3-all-dev"
      ],
      "execution_count": null,
      "outputs": []
    },
    {
      "cell_type": "code",
      "metadata": {
        "id": "SEJFEj6RudWI",
        "colab": {
          "base_uri": "https://localhost:8080/"
        },
        "outputId": "ce57444c-6c38-4e0c-9cfa-fdba51f33faf"
      },
      "source": [
        "import io\n",
        "import random\n",
        "import string\n",
        "import warnings\n",
        "import numpy as np\n",
        "from sklearn.feature_extraction.text import TfidfVectorizer\n",
        "from sklearn.metrics.pairwise import cosine_similarity\n",
        "import warnings\n",
        "from gtts import gTTS\n",
        "import os\n",
        "warnings.filterwarnings('ignore')\n",
        "import speech_recognition as sr \n",
        "import nltk\n",
        "from nltk.stem import WordNetLemmatizer\n",
        "#for downloading package files can be commented after First run\n",
        "nltk.download('popular', quiet=True)\n",
        "nltk.download('nps_chat',quiet=True)\n",
        "nltk.download('punkt') \n",
        "nltk.download('wordnet')"
      ],
      "execution_count": null,
      "outputs": [
        {
          "output_type": "stream",
          "text": [
            "[nltk_data] Downloading package punkt to /root/nltk_data...\n",
            "[nltk_data]   Package punkt is already up-to-date!\n",
            "[nltk_data] Downloading package wordnet to /root/nltk_data...\n",
            "[nltk_data]   Package wordnet is already up-to-date!\n"
          ],
          "name": "stdout"
        },
        {
          "output_type": "execute_result",
          "data": {
            "text/plain": [
              "True"
            ]
          },
          "metadata": {
            "tags": []
          },
          "execution_count": 3
        }
      ]
    },
    {
      "cell_type": "code",
      "metadata": {
        "id": "RWGD2vyM35Ct"
      },
      "source": [
        "!apt install libasound2-dev portaudio19-dev libportaudio2 libportaudiocpp0 ffmpeg\n",
        "!pip install pyaudio"
      ],
      "execution_count": null,
      "outputs": []
    },
    {
      "cell_type": "code",
      "metadata": {
        "id": "cOvHZEbJ4AA6"
      },
      "source": [
        "!apt install libasound2-dev portaudio19-dev libportaudio2 libportaudiocpp0 ffmpeg\n",
        "!pip install PyAudio\n",
        "!pip install ffmpeg-python"
      ],
      "execution_count": null,
      "outputs": []
    },
    {
      "cell_type": "code",
      "metadata": {
        "id": "eVZLNbk_5fGC"
      },
      "source": [
        "from __future__ import print_function\n",
        "import scipy.io.wavfile as wavf\n",
        "import numpy as np"
      ],
      "execution_count": null,
      "outputs": []
    },
    {
      "cell_type": "code",
      "metadata": {
        "id": "q7YZxlC25nwW"
      },
      "source": [
        "!pip3 install SpeechRecognition pydub \n",
        "# importing libraries\n",
        "!pip3 install SpeechRecognition pydub"
      ],
      "execution_count": null,
      "outputs": []
    },
    {
      "cell_type": "code",
      "metadata": {
        "id": "-DdoZtaM508D"
      },
      "source": [
        "import speech_recognition as sr \n",
        "import os \n",
        "from pydub import AudioSegment\n",
        "from pydub.silence import split_on_silence"
      ],
      "execution_count": null,
      "outputs": []
    },
    {
      "cell_type": "markdown",
      "metadata": {
        "id": "t85Fdrfk9g33"
      },
      "source": [
        "# **VOICE CHATBOT**\n",
        "\n",
        "Option A- Question and Answers\n"
      ]
    },
    {
      "cell_type": "markdown",
      "metadata": {
        "id": "mYRZ4i4T-S7d"
      },
      "source": [
        "1. We will write a function to classify user input, which uses nps_chat corpora and naive Bayes classifier to categorize the input type by classifying them into listed categories.Where else Bot will answer only to Question type classes.\n",
        "\n",
        "Greet\n",
        "\n",
        "”Bye”>\n",
        "\n",
        "”Clarify”>\n",
        "\n",
        "”Continuer”>\n",
        "\n",
        "”Emotion”>\n",
        "\n",
        "”Emphasis”>\n",
        "\n",
        "”Greet”>\n",
        "\n",
        "”Reject”>\n",
        "\n",
        "”Statement”>\n",
        "\n",
        "”System”>\n",
        "\n",
        "”nAnswer”>\n",
        "\n",
        "”whQuestion”>\n",
        "\n",
        "”yAnswer”>\n",
        "\n",
        "”ynQuestion”>\n",
        "\n",
        "”Other”\n"
      ]
    },
    {
      "cell_type": "code",
      "metadata": {
        "id": "xICmdQmgwTXg"
      },
      "source": [
        "posts = nltk.corpus.nps_chat.xml_posts()[:10000]\n",
        "# To Recognise input type as QUES. \n",
        "def dialogue_act_features(post):\n",
        "    features = {}\n",
        "    for word in nltk.word_tokenize(post):\n",
        "        features['contains({})'.format(word.lower())] = True\n",
        "    return features\n",
        "featuresets = [(dialogue_act_features(post.text), post.get('class')) for post in posts]\n",
        "size = int(len(featuresets) * 0.1)\n",
        "train_set, test_set = featuresets[size:], featuresets[:size]\n",
        "classifier = nltk.NaiveBayesClassifier.train(train_set)"
      ],
      "execution_count": null,
      "outputs": []
    },
    {
      "cell_type": "markdown",
      "metadata": {
        "id": "r057w8lQ_kW1"
      },
      "source": [
        "2) A greeting function : to make the chatbot more engaging and interactive."
      ]
    },
    {
      "cell_type": "code",
      "metadata": {
        "id": "fKfwJlYmxSk1"
      },
      "source": [
        "# Keyword Matching\n",
        "GREETING_INPUTS = (\"hello\", \"hi\", \"greetings\", \"sup\", \"what's up\",\"hey\",)\n",
        "GREETING_RESPONSES = [\"hi\", \"hey\", \"*nods*\", \"hi there\", \"hello\", \"I am glad! You are talking to me\"]\n",
        "def greeting(sentence):\n",
        "    \"\"\"If user's input is a greeting, return a greeting response\"\"\"\n",
        "    for word in sentence.split():\n",
        "        if word.lower() in GREETING_INPUTS:\n",
        "            return random.choice(GREETING_RESPONSES)"
      ],
      "execution_count": null,
      "outputs": []
    },
    {
      "cell_type": "markdown",
      "metadata": {
        "id": "dfJJLs3WAf0s"
      },
      "source": [
        "3) Data Preprocessing:\n",
        "\n",
        "Call Corpus of our chatbot and perform some NLP pre-processing steps on it, i.e., **Sentence and Word Tokenization, Lemmatization, Normalisation**.\n",
        "\n",
        "Tokenization: Chopping it up into pieces, called tokens.\n",
        "  * Sentence : Based on punctuations such as “.”, “?”, “!” as they tend to mark the sentence boundaries.\n",
        "  * Word Tokenization : Separate words via unique space character.\n",
        "\n",
        "Lemmatization : Reduce a word to its Lemma, or Canonical Form (Dictionary words form).\n",
        "\n",
        "For e.g : plural->singular, verbs, time/participle variants -> present tense (ate-> eat) etc.  \n",
        "\n",
        "Corpus : \"intro_join.txt\" file(a article pasted from wikipedia)"
      ]
    },
    {
      "cell_type": "code",
      "metadata": {
        "colab": {
          "base_uri": "https://localhost:8080/"
        },
        "id": "pML-parlgPMG",
        "outputId": "33e6e619-9356-470a-b449-41efff841894"
      },
      "source": [
        "!wget https://raw.githubusercontent.com/vaishnavipatil29/Voice-Chatbot/main/intro_join.txt"
      ],
      "execution_count": null,
      "outputs": [
        {
          "output_type": "stream",
          "text": [
            "--2021-04-24 10:50:59--  https://raw.githubusercontent.com/vaishnavipatil29/Voice-Chatbot/main/intro_join.txt\n",
            "Resolving raw.githubusercontent.com (raw.githubusercontent.com)... 185.199.108.133, 185.199.109.133, 185.199.110.133, ...\n",
            "Connecting to raw.githubusercontent.com (raw.githubusercontent.com)|185.199.108.133|:443... connected.\n",
            "HTTP request sent, awaiting response... 200 OK\n",
            "Length: 18838 (18K) [text/plain]\n",
            "Saving to: ‘intro_join.txt’\n",
            "\n",
            "intro_join.txt      100%[===================>]  18.40K  --.-KB/s    in 0s      \n",
            "\n",
            "2021-04-24 10:50:59 (114 MB/s) - ‘intro_join.txt’ saved [18838/18838]\n",
            "\n"
          ],
          "name": "stdout"
        }
      ]
    },
    {
      "cell_type": "code",
      "metadata": {
        "id": "qh58YHqxxfyP"
      },
      "source": [
        "#Reading in the input_corpus\n",
        "with open('intro_join.txt','r', encoding='utf8', errors ='ignore') as fin:\n",
        "    raw = fin.read().lower()\n",
        "#TOkenisation\n",
        "sent_tokens = nltk.sent_tokenize(raw)# converts to list of sentences \n",
        "word_tokens = nltk.word_tokenize(raw)# converts to list of words\n",
        "# Preprocessing\n",
        "lemmer = WordNetLemmatizer()\n",
        "def LemTokens(tokens):\n",
        "    return [lemmer.lemmatize(token) for token in tokens]\n",
        "remove_punct_dict = dict((ord(punct), None) for punct in string.punctuation)\n",
        "def LemNormalize(text):\n",
        "    return LemTokens(nltk.word_tokenize(text.lower().translate(remove_punct_dict)))"
      ],
      "execution_count": null,
      "outputs": []
    },
    {
      "cell_type": "markdown",
      "metadata": {
        "id": "fjBlmIfJEsOw"
      },
      "source": [
        "4) Color pallet: A list of functions using the format command, for adding color to std terminal output."
      ]
    },
    {
      "cell_type": "code",
      "metadata": {
        "id": "ceVY0evz3mEI"
      },
      "source": [
        "#colour palet\n",
        "def prRed(skk): print(\"\\033[91m {}\\033[00m\" .format(skk)) \n",
        "def prGreen(skk): print(\"\\033[92m {}\\033[00m\" .format(skk)) \n",
        "def prYellow(skk): print(\"\\033[93m {}\\033[00m\" .format(skk)) \n",
        "def prLightPurple(skk): print(\"\\033[94m {}\\033[00m\" .format(skk)) \n",
        "def prPurple(skk): print(\"\\033[95m {}\\033[00m\" .format(skk)) \n",
        "def prCyan(skk): print(\"\\033[96m {}\\033[00m\" .format(skk)) \n",
        "def prLightGray(skk): print(\"\\033[97m {}\\033[00m\" .format(skk)) \n",
        "def prBlack(skk): print(\"\\033[98m {}\\033[00m\" .format(skk))\n"
      ],
      "execution_count": null,
      "outputs": []
    },
    {
      "cell_type": "markdown",
      "metadata": {
        "id": "6u02DQhnE-nY"
      },
      "source": [
        "5) Response function : Processing the user response converting it into a vectorized form and get the best result from Corpus via computing TF-IDF cosine similarity between the question and answer.\n",
        "\n",
        "**Document Similarity** is a concept which involves determination of how similar two or more documents are with respect to each other.\n",
        "\n",
        "Represent documents as vectors using **TF-IDF**. Once we have the vector representation, we can similarly find the similarity using any of the similarity metrics such as cosine similarity.\n",
        "\n",
        "**Cosine similarity** defines the similarity between two or more documents by measuring cosine of angle between two vectors derived from the documents."
      ]
    },
    {
      "cell_type": "code",
      "metadata": {
        "id": "J9fVgaI5FB6S"
      },
      "source": [
        "# Generating response and processing \n",
        "def response(user_response):\n",
        "    robo_response=''\n",
        "    sent_tokens.append(user_response)\n",
        "    TfidfVec = TfidfVectorizer(tokenizer=LemNormalize, stop_words='english')  #Calculate document vector\n",
        "    tfidf = TfidfVec.fit_transform(sent_tokens) #Calculate tf-idf for the given document \n",
        "    vals = cosine_similarity(tfidf[-1], tfidf)  #Calculate the Cosine Similarity\n",
        "    idx=vals.argsort()[0][-2]\n",
        "    flat = vals.flatten()\n",
        "    flat.sort()\n",
        "    req_tfidf = flat[-2]\n",
        "    if(req_tfidf==0):\n",
        "        robo_response=robo_response+\"I am sorry! I don't understand you\"\n",
        "        return robo_response\n",
        "    else:\n",
        "        robo_response = robo_response+sent_tokens[idx]\n",
        "        return robo_response"
      ],
      "execution_count": null,
      "outputs": []
    },
    {
      "cell_type": "markdown",
      "metadata": {
        "id": "Baw7MMkzLEbX"
      },
      "source": [
        "First message from Bot"
      ]
    },
    {
      "cell_type": "code",
      "metadata": {
        "colab": {
          "base_uri": "https://localhost:8080/",
          "height": 75
        },
        "id": "yzEHkybn2N4v",
        "outputId": "282f8101-e7a0-488e-df9a-cad455e47505"
      },
      "source": [
        "from gtts import gTTS #Import Google Text to Speech\n",
        "from IPython.display import Audio #Import Audio method from IPython's Display Class\n",
        "tts = gTTS('My name is Kalpana. I will answer your queries about Science. If you want to exit, say Bye') #Provide the string to convert to speech\n",
        "tts.save('file.mp3') #save the string converted to speech as a .wav file\n",
        "sound_file = 'file.mp3'\n",
        "Audio(sound_file, autoplay=True) \n",
        "\n",
        "#Autoplay = True will play the sound automatically\n",
        "#If you would not like to play the sound automatically, simply pass Autoplay = False.\n"
      ],
      "execution_count": null,
      "outputs": [
        {
          "output_type": "execute_result",
          "data": {
            "text/html": [
              "\n",
              "                <audio controls=\"controls\" autoplay=\"autoplay\">\n",
              "                    <source src=\"data:audio/mpeg;base64,//NExAASKKYwAHvGTC4liIgY4KQMcP4MEJ8FuEgJ+diJUSytuDI/kmeKwwwGliso4sAcEpoPkAIFgWAAWMgO458PynKFHLQcOCq3nP1m/d//8oU3H0qTREAgIgKDcso+//NExAoTqMZoANsMcMrhp4EICFwQzU3M1I0IkqUA5PUAH1ET7GDg8AMhfUBOAc2ZSFhaFum+l65BRmAIY1ws3QU3ppf9YXNaH/+UWf////6Mnak+11c5gBmFI4ToUGaC//NExA4VQaJ8AOYKlEopMigp5L2DdSY0syxyYi9/K3glKr5vCCy5jQbOW6V3P7uau5fus7mCmdv+vjQfqKf/6NodGKgn5Rd4rWXf+X///9ezfIYXyxuNxEcI3rseDtbs//NExAwTyZKYANYElI6HAyF82GOQhgVqYG0/FPQAEbK884yNQ9j0Nytw1bt3cqShcyvrmc9h/8t4Np/7didTMRTo1D9CdCFEEUXGZqM9/tSq5ztlyzzEX9KLiepYQLfM//NExA8VGZKsAM4KlBpc7RtvFJdk+xlWDkN/ZhkQCRXgGLy1KZCXKsMWqrZebH6r6We/8Oc5m4g3k8msr1YPAj7ijoo0X3Gj1KQSHFHIyf84WVXn7oCwtISlt9lAOTh3//NExA0ViaKsAMZUlJTAaSe/UGilb6zWc0QKD3VWR5PULdz9FNuwDtrd7fFE7+t4w9Z4ltxgW6Dnk/jLsMxqiMVDTjMbPsFjRQKycRnU1adtf/////Qq5/OtJG+TtbVo//NExAkUyb6wAMYUlK038M7g9KDs95LMRbouzBCwmvJbfsLEvU/NukV2inPuDAKTm6rVc3qI96FB/0H7cg8Zq9RHPeeVDRs0RDcQb6hQiYbxp0J8vsq01f8SkYAg4h6l//NExAgUgZa4AH4MlBKb+G0UW2+X5KHCS7/3GlE25Z+cEq9gfvytHpzd/x9ltuv35l9AiNkinnY4nv/m/2tv3RC9Z0R/eZRT+c2d7wTTrljD6wXeonTr8yB9H1OZBg4Z//NExAkT0aa8AJPalA1DtLFXzYAekp+1iEmp86YjK1bchzRP8ZRU3q3CNBuNWYlimzI05kvmJge0ThozmJqUGqSPoaRsaa2PmlRePlxBZTAlgYrV+AywweoOECkF1D+B//NExAwVKcK0AJxelHJbWmiL0LsepyBq5RJDqN0OiSzOuQ0kIzS6KGPTVcLt5/hiV+/8N+d7wrly50w3OTJn+sWPnwnzh/VtjRM/GVZreIUPypGt60LqJUFdjgLiyYBo//NExAoS2cK0AJtglCAtU2aoBnKqTNQnPWSP1+dPeST1S4RWtZcEcmi6zEcKui/RIsjdApDaRVpnukbeZLbRJlCqYGtrGr5PM7/////9FeZffQEHLE1Wkay+JgY2XQVi//NExBESobacANpQlMchCCpiDWA4GmvaE1eeob//GP9pmetLoWerB4Fz1ysXxDfEFCpvlA2O/1X/X9a+dmhLbGQUIg6grpWNRmJMhAKoezhg4GVlljGTPGsWD9U9gKMo//NExBkSocaIANtUlC8wHap1RP0uZHvbyZRdAY4cTR/P9W6G+3//+j8oqHHkAN5CrSEnff4Z///1ZDdEbbals1ImwAGnJ1tcWzhijZkCHJKpxZVSh/HhZ0BgnVc1PdR7//NExCERwgqMANtKmP6R501j+LRnZNX36t4t////Q72cBh2gqD9RJun/Qf///052vTsp/mp9I04imJPPVgcKHggq06W0xyhHzzrDhLO/4DeqIn3R/H3jEF/f6uyMl7PX//NExC0XAdqoANPMmWqIE1NnOdb/X2Hhnt9yzCADpEBlTSkzwu2eiEZnZCH/9w5ZiAIWz+2d2hDz8dgP//3MHCxlCsJSQwES8Pd2oAyCwoxWNYNjfWO49zqWuTHnCI6S//NExCQXugasAMyamCJajLqJGhYwVEHLgV483ekMhlrYyIdRiYhlNTsxNCX1KLr3le04MAy01GwwDI5Q9I09F+ib5X////829QGqifuECByTzoGeWKSph66yRbpt1m3m//NExBgQ8b68AItalAf6ii9Sx2DhPJM4fzbkgn0y+bVrYbqpgOA/pplLye3TP8zNyjprNnrZLh2u7DlgXRWMETUL9D1e8U3Tqj2PR79N3y+v+0//tv7ZW+2mm5hpQUmT//NExCcRUUbIAIrMcSJK7PqWhMw04lwckRDQ5BYvkPIChgSTWaXdoX5n/ur//MhHCudlCJ6vcOxBpgBzxwISJuNCT0Y7VDu3zVdnz5uvL1OMgcRxKDap1HxSYUQSlZKW//NExDQRUa7EAMHMlGx21tp+2O2FfW0vgAeAbhbF6v+2ABDTrYWgXrLQ7xRON1YBjtwbm1IuSvCx8r//zP47VTy1NldUFWJNtSS1noCgIWc40jlPiqFIG1JinVTit5VN//NExEERCV68AHoMlVu3/dX/20ROekzxEIrPJsVTL70SAETqCwXxfzCbp0/3/8b3Z8aKljCJyRAi2g4xJ+eDbtLRm23I85E7JdmQtNaklhNdSVQ5qa2l/vKMrvR8mAcW//NExE8RYaq4AMKMlV+6xqJA16D4EDEKAzUEnqLnzeV6Py+gw1RhqZfy8DhrWRJjIMqrRD07gpb6rfhe/XvzlcEiJhF/zfwdrlYwmpXW5gqhRSZfQXhrzcHcgQA+iAn2//NExFwSEdqwAMHWmBqiiGC3IK86Qxk5VSZ0thWP80p/HNbFEvmlWoqoWauNQ3rE0eVDJISuSxblB2WUFQMPYHeWlq23eg8iAAXgKsrs6NIJDIhVLxV4MzW5FpTGXB5n//NExGYScSKsAMSScFE9tZ0r1Q79aGkunkzMBg0MLDuySTM5FaU/vbV/3lgsPZFYyInfZ/////WqjMw2EhQDl3FUzhswNRhBo+tSUsGcYs4LJCsNsovcgKdYCJJVJAHv//NExG8RyMaEAN5McIzje2NjY+dX79ffv///31Fd2wXieD/fT////bRvXc86BlZtlDdGsGVciy2ALCAYhwExyGX850MTgcAaD3akLhBeMDIrtSIYhsCdrQ9ucPePtFiF//NExHoRKcaAANtElJewQgCBGQTT/vWjP7PT/PJoOeT1ve3f/e/+0fv8eDEC74g/vUr95tJG1ML8MCXMB2WFnHCAnXVUdMe+MTLdAQ0HEzuCEwSJscaWiVS4x9v5TdoH//NExIgWWZqcAMPMlHH65NVldVp2JI+FvnnQToLO7uJvlLsigoa5wUM6mRmd0+CgRkFCERWUcW2+hl4MytdErZ1sU7AGCMxAUIfq8o+OurINxnBeK+yi5i1V+MnoCtmz//NExIEemg6cAM5SmAgw3DEMmjA+UvQtV/Q3lhlub46Upt/HXYnO3SUecHsSjRqWqKomBY4TUbDRJa9Sep3rRVmJpcnH0ESTzfm/7ErHKYgCIP2fk7HbeudxZkBr5FhN//NExFkUQTa0AH4acZgFbqQ2cNFH9YQmFrbzeBsOvjyY1/7M2+X/HoP3vUl5qaXNT3oBR5aiYoiHaqX2rbrwimIhj0RcrZupcz5StRxXiUFVChv5Kt7qJTm+Dr3cEOLJ//NExFsTycakAM4KlawMBPF2KT+MqfY5j0Ale0bS2kySPvwlMu7bdGpU0pOufDorUj5rjr/P+7Z38d8vtl/43//z74j/wXcS9tm1Gx7tptnr5txF/O07++cogpszQcf4//NExF4dkwqYAMLMuT1zRCL56855NWmO07hScH69g4XDYUhcgirGWoZYVs+ZmvVYsKPEznNa6OqqLIc3X7opjnehU/u3dN/Kn5fffr+v7//++d77jues1jZdJSHhD35X//NExDodaxacAHiSuHXRwhc5RfWyYXtROiPKJjCJZzqfTBATklHVqNICdBEkF7LgmjGKRIjJMCiMLcRkbSAVgoYJw+TAK8mc3VygT/X/+1//kjY2XX///8i//9VX+/r///NExBcRax6wABBKvPWl20RDu8l0Q7oouW0SIYYKTkEUHEFKHUw8TCYuJBUzHF4DHh0XUSGRyxQcjhwiAbn//9+/6MddkQQJBAzCKDCHStlS239v//9/TXp0V3Lt7apc//NExCQSet60AAiKuWpUpWQzl6tLREcWeMMHg8yGHlJV0dlVCqQxgYWEhwsaPE1BiVUXHwRGxJDupt//rT0MpcxlFQkBqFmcpA8uY3ev////o//6S9St6dDG0cpS9DZn//NExC0RSs6cADlEuZWurTGMYpZS0MahnLKWrJYMKuhQkqH4qioBgoDcRmDEWcapGJFT5FVspaN1feonLluyGshhRIaCnkQUeRbRdu1r/1+dvV7g3yTbAEt2llsGdwwi//NExDoQqL5AAVMYAHW1B1DniVbgNXDngwA9zq/cC5n5v9V0DabOXyBk+K+VR1eVDMrjMDKiPRc4tfypIoISDIDKjkqC4YA8/iCglAqEEIoVAuCDIofqMyNIcn+6BoT6//NExEogQxqEAY+IAUgbmxBkBcRGE+Rf/pumm7aBWKCRZLZFyKFM9/+hqb93Kk4U0y+6mSS///7f+s3QJwvnS/OIgcdlpjf//FyoUJza6SCoto1rWTuay6pu6n3/XZoL//NExBwSeUqkAckwAGJ0CQXQSZOnFpaCYrnlXdtsbfqJJnmSQPCMmtKSyaJzIqisaeD6Ipd1eyZf/9bl/G2KABxJDlg0tY8jtpfAOb004HRlct5+BVlZv8lbdUKhD/rp//NExCUR4TKsAMMScDK0UQyZbTURMmHKkvX9zoxJNqeSUPCEuwlG+kXt1O8Wqd6q136qfgnWxy8zFDzPLOyZoRW/+BhTHJzmQjKiPhOSmAKuW9zq6LOtQUuizllSuPbj//NExDAUkU6wAMYMlLnN20HPz95buaf+WiEY5VgBT/EzyxA8Rvn6geQp0MVvqorq18VI0JnGv6iSz4vAVe0C3vQii49vHaHFGyLXvmlv0/e9Upfvv3INw//pb/CiOoJt//NExDAR4aa8AH4ElErch3wynPDB0YhWOfL7H1Kp3cMLEEz+uvcAwkXqDsQ+fteIkCKfaZ6XZLpyLkyIhgo7B8tsxWIQUdCIAIbn46WPaaRds5Pt381PR0Y0RQxXLatO//NExDsQmUbAAG4OcaKBx6j2TbV11qI0B3i3qyOBxI3wRCcGzR4UZKxOutVdmIpORS9uacqX5/+X9///eH/VP9j/jf9L/az5kiMBDjO5Qy2jLHyAgZkT3/Sq1z90zZit//NExEsRCaa4AJYGlLey7XCz41Y0sdQALCBGSjwYuA+yHSpom4NPGg1U1PdFF/X6t6t//9s1RTMHgMVqGMuUweEXlFQW/8NCtZ+I9lKchz4w0OcmDnYAIABHmNr14pSY//NExFkQWaqsAMTKlIByVZaN8QoQDkyDKT0R+JKLDAvjDFNv/G66+7f6f//+WbUBGAhRsMhke5WlQUJb2/+IkAoBNVMGER0MM7GTxvk2QVVwFQANgl7GVqHDeQYOUmrg//NExGoSeZqEANPElPQVDyB05MUQ5QKgbCCAeBpE932cr1+6iasVapN39/6vrqf/kv+uMCYmwW0FwzEhOhqCWm09LBjd5NR40v52b3f5rW9blQ1LGOIlFljx7RO5QeDx//NExHMRcHY8ANvYSIc8VFzrYqKFtsOnrjbdH0dLU7XW7b3cxmy13XVGi+CgLOzlnhwHRcU3BwQtaxrvssvJ1N34DoC+JnQQkAkPGDJhQHoHkF8TkLn9E3GDOGgOQNAU//NExIASGJYwAVkYAEMCHL/JdJkEGGMQh6qHEQP6CDG6GMo0TC1F0mF3/qNGTet5OHaZlB0mSX//7m+/lNI8XiSPnFGJ85///90G/PHTd3MkDCgiMTJVzafgYAkYGmzU//NExIofsxJsAZpoAX7cjGOPhSKVVxVAX8rmo0FhEljEwEEUAACDYfWUWPREuVpGR8qob9fRGRGFN1RfZbWGEDAvv/+QQ1C5S1JpG46RUMfPfWzBhoKDXen4g0cz5x46//NExF4ROYKUAc8oAAGGIFSPOOMSPmpPEgEQuylhqXp+gIuL1JyINcl9XXbsjwxy1K7/eY7p/+UDlfalVEoILMYeAgIRHlw+UxijHXOYExjTBMBwCYyZcz54Z/yzv3vd//NExGwdegaUANZWmBZINAidd////9W7ewzhg+e6s+dmlGWROed6rMOMbQ+PA3Tel6hCzNmuQOm2sUYWyEUimiEIEKMHLoGq6tDJKHLXP4qzLf9eGj//97P//j1n/1qN//NExEkiMxqQANaivfP/+RWzhzFkUPX5QmJAC5Lpg5qKSMkUkRaBiudUmFh5BTzrQG+lrLzdZg15cLyS6JE0b0Ev/////////pozBpHn71md3sP2vxIQCcuf/cEGO5Uw//NExBMWecKgAM5alIpNDCY9JS/WjRryiwMH3sxhFTSrhcurTkPf7QQ7n34+JdSPu3pepvHreiHw0VOHAtp9FNQsBuZTKC8fI/mPdLYm2f////RQbWUAMu4QeiT4OfOy//NExAwVGaqkAKZUlKbIH6uc/QMhJyKXKVxQ1G0Y6souNxHwJ23vNkNHh/6e/+/GTeNvI28l9G8fXdQcJTXSAcdLQqBs5hhwIZZs8bbN1ejb/////RX1AYJCivGuDiV+//NExAoSGZKwAKYOlAKEn93tSQeblhVhgxqfOrugTIGk65fsNEv/+7s9//Ktx/0bzPv1H2ug+HmTRuA8CqsojguLk2HAWHGYZ/6ySuwr4AbEmi5YC/gtzTAuggOvGRAu//NExBQQ2ZK8AJPKlalfpSAzC8zZYC2HO63hPk7PGvYHBm3m78Sfv///7oQouHnI4fArMRBEqzjFFTpItf/uIjePVr00TCgH7yrytogWlZ2wJ0DMZV8IYaazrDeX5RRs//NExCMR8VK0AMPKlTaoiVNMrtOGVbv2GFGVGM/KXt/7vVHcQEQ6HgGC5eeieSONVDnf0St4M8sScpsT+mpKpqvbDqi7ECFQ35IC9J1xV7UrnJxj/b3UNqZnrfOrWWRc//NExC4RwaKYANPElTioo76kpWm//6J+9VIapTP/N6Jig1w2mNu7lZEK50rJRx9VALrl2oEfEwz2fuGRGTAjA2JzsgCDhEYWTeUQQUyLcFEBkgJWicEBZtzup////O9U//NExDoReaqgAMpElWnf8/tIy0GBDB63VvqES1HxUmUTuCnyGGkexwFe3p84VpzP9DpVe3PVGzriA8iN2vFr3JexQhBMbSKtIAQKGPiCHliwnD5+mmwpECRs/6b/A/nJ//NExEcQsM7AAHvScIC+vaG+dLgwIU7ZkAolIeJlKtLoSyKFRHDpEqSIVj5RI0pNCjJDRgPDYMpwfC8z5Kvfjf8N/z67aezwTUaQ9M6Wmp5Feku9Mg0UQBoGTJjOshOd//NExFcR6T7EAU9IAJcqFo0qZq0pypkF5S1TwgzZpIOHEQhUKIDBGGv08yfqLCphCCMNXfhrvZZQyq8KjUogRxojGn5lNy/Yq9v6wmZ2VSqLvxnzPKrNUuWsN968samb//NExGIe8bKsAZjAALetVqbPDn73/71zn/9PGKKexqgmeBrq+EhVUUHhEAguMqiR9RxRlWIzBOudRcQbZ+1dd7/jrzmIrMXvAyEvCE6HqawkFLNKxERQRab/KuiDN4bd//NExDkgka6oAZjAANLhvA6UdmnwhEsu14Z5LN5yqrclUdps9b5bs833Gvm905L7di3nL6TdnPDKzu/h3fKSnpbXOdww5T3reAcNAcIkklwSdy5k51oVMIIYp1QVYuqE//NExAkUSUK0AY94ADteTq5ePDxQ0hLmthxi5n+kgE4I8rz7ofhyKk40iaJbS3KtgeKBLzwIFCdKKDWup633Hvenr/n2hXz7/Ee+6f+CGr1Bj8FX9KoKUvpUpg+SXkuL//NExAoU4YKsAY9oAKpajSry4jm29c6AFiBKgkZ0TEeRaaGgK0LYNke5JHR9KzEvubgtpkSJoXi56DNepJST+pT/HsdNUUVIqR+g6PsZKCrKv8WFv/kaGiXRtfVji5OM//NExAkSqTKkAY94AC9FAbyFwrsDgO4uYpFMvFW+hD5SCWFyraBZRs87Oe7ph1Gprf6vvPn+2bev//z//rUGI7hAVqU4neVIBzW3LhLxHQMQ1A6Fm2ByFoNQCksDGigH//NExBEWOfZoAZSgAYU2O4GDNAaVQBnQSLL4XyAwY4DMogtBRZJXgVCAYsIYmJcf/jKkFJkmiLEr/+OUKCHEcHKFzL//yZIwZUqE9MTVv//1kzWY4jpUMh4EkWMVsrjK//NExAsSKK4EAckwAP3lNSJm1RSz2r43jBQThhxR0AyUEAhGhI9JHgESKipA8KKHGdanvNtIupns9Wyx6lIyrHAXPJ7H/s1SpGlNLAkCQaFSLYqgQEzNGYMAgICs9qr///NExBURMMHoAEjMTNd5IgoMAiSWyRIgEkSoeCoK/UHYlBoGnr9QKgr4lO/waBp6gaDsTA18RA0eg0DQdTjaJUxBTUUzLjEwMFVVVVVVVVVVVVVVVVVVVVVVTEFNRTMu//NExCMAoAQAANgAADEwMFVVVVVVVVVVVVVVVVVVVVVVVVVVVVVVVVVVVVVVVVVVVVVVVVVVVVVVVVVVVVVVVVVVVVVVVVVVVVVVVVVVVVVVVVVVVVVVVVVVTEFNRTMu//NExHMAAANIAAAAADEwMFVVVVVVVVVVVVVVVVVVVVVVVVVVVVVVVVVVVVVVVVVVVVVVVVVVVVVVVVVVVVVVVVVVVVVVVVVVVVVVVVVVVVVVVVVVVVVVVVVVTEFNRTMu//NExKwAAANIAAAAADEwMFVVVVVVVVVVVVVVVVVVVVVVVVVVVVVVVVVVVVVVVVVVVVVVVVVVVVVVVVVVVVVVVVVVVVVVVVVVVVVVVVVVVVVVVVVVVVVVVVVV8LxA517A//NExKwAAANIAAAAAClwwP2AxlAYP2wRgE/AaftwAMAsBMwER/4TgoBzgCoCw//MDRAJ2S///IaJLmRQNyH//+J4MAbjEDmEqUhyFn///44ymSY9yXJcnjnEzPsn//////NExKwAAANIAAAAAP6TDIHePMoE8c5sPRElCQJR/4AdEIATN2H/Svk4hIjGSz/axFDDlk5Nd4YUDG4nMDMbTA0qHANSHrwsrHQVBbAMWmAAJWgZjIIGMhr8XOfK5cgY//NExKwAAANIAUAAAPwGBgoDAhAgWdAsA/1uggs3C5sQEGfDLIb2DZj+bmBoaLuDbwBwQDG4XaJzGYGt/0GQQvyAiUxSY2hmDIulcv//6CFvygVCKERJs1An///1of1l//NExP8acynMAZNoALbi0THv3XFkfLsMp6QXhiyFQUFPmKF0nLGgE8sikOMEk8zaW1JpI8I7K1Kdz8HUJk+LZpPn/V/v/GsfW4H3nDywvul8nW+vR6m9jrboHszaldaC//NExOgkslqAAZuoAIgiXFYl8gLvHDBw9H5UVQJolIKhr8cNzDFxj0GlSyiu4IcMZfyDYfQdBTCO8ttJLoRPdPKnoVgp+5ZM8hN+uF5X2zvR4P/GXJITjc4r4tx4R/O2//NExKgSsTK8Adh4AKucN1hMUS+dRWCbe7MUGLJdUpxon+INtYzV5XfhWp9Ys8WCR9X////9Cm6QDLJn6giBU1R0ACpcqK4KeU/S9wcIDFy3rS8u9/O4zG1r8lFq+Pej//NExLAhmfqcAM6emMEJLhchzg30EYhx0XdBc3Uh0dvIdBsT8SMk+jDcsfoqbwFQuV3SBJgoi1Ji0AESggVjABficPssohyR9qY+mrLhcFYetMRIhVJUCUX4xFHkpfoN//NExHwSEaq4AJYOlF8qIVmyEt6t1LdCJuwtNoeW6E2WdLZmscrSkKhp4qMxBW57CEDM3pjHg9S6UTgFgP/ISHbLDksCsCtrXpYzBRc1kXZWwmmW0AUUifVlq2TAHBRs//NExIYSccK0AJyUlFKa/KWxLqpJdvGrh3L5TDuWcEuISLoj8PJK5wHULU+1i6rkie5w29M1ewsgV0sdFEkSVVWYkq27t1l1SaMyKTv////+ipbSRVkxh4vnkFAY+Bo8//NExI8gIgKIAN5amEoSAJhYOiOPmZwIAgApm5TQBYm7EyyMoFnQZBxxOJmCwxEzMECceMPBZqxX8P3a7jUvYd1Xu2kDfLYu/km8kKqBh3Kfs5EReRmym4cMwQEiC4CB//NExGEbkaZwAOaGlMLgd6QxOOLv/////4nqnatxso4OGCQbNC97rBUOMyfDlSFksugEAjRJvWpmflUSYuCVgm+krpmJOiTRmlbGNuve/We8P/DDH/1gOfVV9/dui8XC//NExEUY+aKMAN6KlJYgQn27s9iFMcYAgIJkJkzyhZYeNFwsGxB/////0Cn+dsLnBXKB30rwQY+QXSn5ZPoyk2sLlKI0i4pf8rXgEZfWn3ElBJHr91L//+sf//u+R/f0//NExDQRaa6oANYKlPX1boNpl8nkfwOzuQQyj6N0oufjNECTgCWwPm2I3fe2rV4A5ULiXMQHFQWFl1OCAwO41K7EoQdLk0/V9+j+np/7eJGqUID+7dH6CT8B2lnSVWUz//NExEERgaqoAMUKlJ/////qx/l9dgPGwdAHHDOGYcf5U7IHO4tqZOjlAACAuYkVl8I0GYLY9zMZJPmLdbdT+/t///l6gT5w4z6P0LziT5AY1boZiA/LVc88uFgxd2mn//NExE4RSb6gANTElF1AucD9h1naw4FCB0XY2/DSTapNbkFiEJpQpANwpwmAkVJ3MKpP/T7////+y0PLqcimczdHuppScqFYSEe6Ic8hl4OHbFQbVUvhwcClrKC+UTdo//NExFsSMb6kAVhQAHIok5BRQvStEYHAYcUOkBQULhLIloFQAh4YpAS1C0wW0tAQFgCARBhPBZKGrAFxIjE2NWNkETdN2l4yPmrOq9V30WdTsypqWS4fZc2NTx9bJDlE//NExGUhilKUAZqgARS8ZUky6WVGSkVOitrPPomJgTaZ5JTqQW/+p1N/c0NT7Ko/HEwj+hguTLMFXm4SEDSDVmWgABkQohIQ8NNuL2qy4jKGMgh/qYxCmL+uW45dvmKC//NExDEeifKwAY94AF8OByeUHystb92rUQoZkVTV9X938d5SqG/Gatt5GQubuI594wL7LFhsU8FTRt+BEhMES0TVJba77Xti0Kr21a/OrvKeIhEe6A1VzrOhTQa7lA6T//NExAkUgc64Ac9YAA4HsDbUEDc625B7/W5nO/RX/iP9/G11eoPZ9+YAXHM2iIxCP1UCXcwbh7XlIlgkLbUzSo2Wz6SOVTlbinKpHLqFDnUKn4q8eyruKFBvhVNkTECi//NExAoUaba8AINSlTTQaJoG+qZiSkQ1eZEfznUYpekhomqPfE4RknGQJHyRVYmROyCJ6CGYiQk70lUEYSfF8Iq5CeyilFdV8W6Qoai3goMUpZq1kvRAdpJnqRZAt5/M//NExAsUOaa8AJNSlYDCE4UisSUJAUMxJYlOkZvrRT6zS/lo77XAi1CoVDgG22JIlW5yWOrm38sTqMUhc3DIq1cKk/EbclllUabKgcimPpc+XyHzIIIkj2dDoDTjIMRo//NExA0RmabEAIKWlfZAOGdRYbmP1QzQhGA84SG4fGPKgPB7KFuTqN+0645W1A3t8tOnL2tY+75ZN3uk5EOXOVg1SgoZokr2A1L6IgwvNqE2BYNqE+JrtWdHIhzIkDTU//NExBkRUZ7EAGtQlZIn+TwAAeVAdCMIwpySKin6isJ8OPSpJNFjEtmm/4p+7Z0Rms0smKR8tc93avYV4CfLbKWUg2ttBxxiUc4FcFXP02Mh/N9KMUeb6QkwlCeYLAjY//NExCYRia68AItKlIgKCH0Ehc/M5PVnsJB4BhTUrPqUhydDkIURFTApSZsM1f7+6g6Uzkbex9uIBlaLmraEhBo/Xwpgcy3mb2XR5Z1jDWpp/jMiDUVu6o/oBn6/o/oH//NExDIRibaoAMPKlJ6GKAx26l9VL5C+YRd//////5LIKu3vqPSY/6N1Vu7ybQCFgEBldLbbCP2aNrC4ULDTE8rUhzlmsNrVqhpRgTKilj6yOUv5f8jlKrrT8rf/+qkd//NExD4RibqIANPElNaiR2UJW1alVYdrxuICECdquaYS6k8uh9J4hS1vEC0K2+HJxUkbV2Jc/ZmAgpgQ4xzDflVPQN/oueqWbQJUD2q/09DHEPd3+6s+kgfWKD5I8AFD//NExEoQ+MKEANPGTPXO//rIv//z8s9//////fb//Rv9z2ap6Mk7pU6nUhFegzkMAWCEUDOJOYYO9DzmACB0Az6EDpwBlc4QAINJ9Rvv/96z//5zL8v//6///09X2Smn//NExFkQ+xqYAFBEvWu+tGcayqm7JMIEOhUHBxR4mPCArIIKxRVxgoOERJRphAsTGEU5CDbASwoOGizsc6C0YOWVL//////+////+lX/8/5G3R2u8ruhmYmNdhAUIiSv//NExGgSUxKwABBKuVMQhTCJ4xrSI4sIhYkRWRxRGOYWEyTCruQRaIDh5lKPcxVE7EWcUMmCJr7V4Da76/kZejX/4DaX//zlYf588v++d512qPoFYgGL0Z2I+aNBVUNw//NExHESUvq8AAhKuQVqzUijNkUNBLCrFpbMKDNA4zVFYcKDFllVp3k8FBQUnQqrQR9VAgSXycmSt8GDSIEITXUJOuh8SBIMj2zhgvHARKxFwRDyFeZn9jdxfkIFx/bg//NExHoSGoq4AAhGuV8M2m9Zpv4EX0fIxN6vVzy/miXMc6CYKoXdlzuexX1h8DSrv1u9QVOq/fa/+uqzqqQlgWCoXIbmb4KtZOQAsT2PA4e0AcQOQN1aw4EZBKuYqg2C//NExIQXkdakAMMGmJ6pDTSyItxaRmAQA06XuGaSSOTfLaJFYIiywY0Gvbqc4ODhNKwNuWOpK7xjFykyPqY9b717vr01t82t85WbXeaXLhmpjEstbG29tZRWx9Z7hgWX//NExHge4d6QANZYmb3GPUrnKxALDTnUdhc5E6KPMhMpozYAmNTIJITVtbLGoC7gOPZfKbqeqheOLEkYcqinh8NbMRYGzSd/BiYcO7FVEAdxMFEJeIXdAfZm0yVv26v6//NExE8a0dKQAN4klfptmCWUC9YfJeY0IApFRNoqWWEWMSSOmxTJpIjq5zyoGKEXaJP8iWPQ8IW0rlqTMAub/r6ov1BL3bx9zv3HWrbweJju7zMkzrVZ8UCpFOQUHPce//NExDYU8dakANYKmHm4s+nNWXfA50AjZO/f//9GogboObHvUXqImdxEUufxKYmv9VJcpJHOhb6LV7p1HIhL5Wczpe2JXcldy9oiWn2cLiXiSMwJS6ShKQ9OAYpUTfTp//NExDUQ4dasAMNKmNenJz8/CF49snEOHXxOuubqQopWkcyIASNx1qZnrDJDskCEQUCryQ56kn9vlr5WuDlmBYqA6AWPkSALC8yII5GspFHGi7dPfE/Dv6f1rtVY6SV9//NExEQSmc6gAMoQlb/+CjoLv3X8ZglHBT0v5JAbC0CmlI4LI9Q9sfLZUXvUzl+UbOM08YZ42qsaQ7FAaHmMBvVyIof1ZMVwf8jEqLryhREEsvZP8O/tXBJ7cNX95MJE//NExEwR0cqcAMnQlaE73YipT7iQMNDFFoYEm6NiNvnRWbnRISX0Aoj6xTEgwx+K0cwF5Nzw8giiK7RoMY6W6dW183m92qNXrm1V+OuPxearwACkamdKFS5JLYkK6J12//NExFcRcYqsAMJOlTaKEPcO2k1PvUpukPm7EX2fwgx0fM+D+LxE2pknPdrLoCIYAhzCIdJlab////ryiRPV+f614I8Uw/74+NbsU4IVJmPpBHIH50cScMQ+vILsE3nD//NExGQSOYasAMvKlViSS6hCRF7zsmIB4g5V4WIXkSEYQpbx6wggl1N+3/////U1JpCOH8vFk8ZYra8rpx0M+BWX0MDkrQDNbZkAqIcrDE7HEymK56fZMaL6lLSn2maz//NExG4R6YqkAMvUldRaaMyKqIDpxYU7DV2yD41lDOHijf//////1bMBNEWxTxZJRMYKDTOKzo1DVjiQKZImI3AYkTXFAh90GaTmbdtVzPo161HZND1DLZhyYrMsBR9X//NExHkSAZKQAM4ElJH3CD9L1V7JK4vr+FeFeLwE8j///qq/LBwUMARGGCz03lkSey4vaw2LVo85Ubs5Z7x5l3tq7e8JCUNKHWj02Htwp7TQcqjLvfR0W6up87U7Wyx3//NExIQSOM5YANYecP93WNqQWVZ3GS+dbPNMA2jYolr+a41BAsF1HUwBRMY4bAWEgZxiB1IbUGDPQMaLAYFh2AgAAMChm0viFxcZIkXK5EiiRiyn+Uyfcvm90i6mxj/L//NExI4PoG44AVoYAO83dTutGjX/0DQ+XCcIOkg/RcxK5a//qQdSDoIOplHpfZ02Z///6DUKkKkKb97OaKSUcPJUDOqrUvM0aSHujBCQ/vIKbndOyhFyDHL+BjAnAQJx//NExKIhUypwAZigACsI508cYWW6ijf4l3+80DgYFgXgQzvhCUqw/J6/FWNDouFywaRt/f9lNt8+6tH6qiovYj/VjUEatsjCv4azDLqL9bEPZwnS0Q1Lmk2urCBWHcOQ//NExG8S0LaMAc94ACrK4QCXZAPitSK/xof+o5mSLAJYsJQFpSxCForERDv/d/rbt2IssI1LJvfNw7gJZgMUPUZzOspiRD7nBTJxzaD+mb2dvk08BBJza0BtukGyVaRB//NExHYSqSaQADPGcEemFkiqkXmVBa0WOrRbZpWll8xGE2yIs4tg8BH+AXzEQBmYEEdOVRCUQ5FWIvJSy/KUxarBV/Kch7FgUlmuaU19ubS/KxJqdfH/r/MD4wi7rPaB//NExH4OoNaYADPMcGXleW1uo2mFTIcLxyaf9zwLQZnBVLclUsHGKp36v5RhWdEIIDw05E5nRhRZFPJ8MIboc7f9UJ7BCSxxnoxGIxSf26e7/////0KVx/Htl2jG6Ijq//NExJYQ4SqQAM4QcCqXZazINKiv2e1meqXY9x1MrxB0lNpHDtzcdbpGX43n8lcuX9/+ywOFfKBG8aL/FCNwmMbpf9vnP4kr+wcJWcdFnVL//VeAAvkhBT16mFOYwtta//NExKUSESqQAN6EcPRBMt1kwkvmJBMkDbJ5JF42fEIJ+XE60iOMjQeB6GxiWPCoF289DQqmN7P9X6R52PPC37kQ0bQwZNla9Q+wBUW2tRmLPC9xtzAgL9R8eN9Dehi///NExK8S6bqkAM4KlDyh20ogVLIYkAICwNgZJYoHI1EUp6o0rmZD7fr/+v//uQhi6ai0DYMpOJr3Tf/5QGdJZxh6HGEMS2ueAz0f3YjPaM2c/hu0Y9dVk1sDQoCgUOik//NExLYSodasAMtUmA4RFFCMgRkMJvYaiyzd1/6/+/7//nv7Wagk1B0NUh5AOslF//94Cak3SbllOAwstwlBgDBX8I5hWRJpvq++6+N3tMHUevynPjlJ6QAwEhaGRoOC//NExL4RKZrAAIHSlSBMeeSHBORNOdv///+yHE3HKbfqQ/an0v/5gYVM02cAF2w4L2U6VY0MGK0XQwq1iHNFVahYcMDC3SPGRncULOtaUKWSx1uSGoahJ4B0AhcOjjKX//NExMwSIZLAAHmSlS5W////+80wuQyhaskW1qum4YJbiUz1jsSPqoRUk6+ysafgRkCPK7nCZQsxQZtqdabMGuu5BKxmksbedtEflRlk0Sg4r3ER1MlhWULRYy7AfCI4//NExNYR6ZK8AMMOlVU9v/////1swdR1umlkOwqJw3WCxASFbbuAR5emJpVmRkpePireCls1wcNizLZymYIptDTWG6OVAS5F8xWWsJR6EYEtkFC+6uWmLlYMttRxdkTA//NExOESQY64AMPKlAAcDp3T//////uN2RHruuzGR+fgFzJNk+osZMxMgLB6zCWwAwS1VI2Xgs5YYrGcz6IpE+4NSoOpmZC/VZkeOQGMY5cwjg8BDAEg51Ch5PGE00Ik//NExOsVgcqgAM4KlXkQWd//6Agb1ILmy4dIqv/YwbIcm6E1tmdCnC1pSVBERaSOU4XwxdsEtcSG31JWewWluHNcuRTFIFgNSyPgIeHKkaAuRcw8jpCw8dqRHDeTKBWd//NExOgU+YakANYOlUXHrS3apf/X30mTKBVuYXWfzN2WYJJFyir/9D7ftkJi0ajRgrLNr6fJ5Nysg44nlR/JVpw/l56zW5FaThKkoHqaFYqhMjEzBvl2RBKE0yWZyem6//NExOcTyOqsAMvecI0zDU2Z6z+YPUUcfKCjNBBBJBBJNyejm/Zu6tYZK8fAKZIcB2xaYsEJlHmjTGL0J8iaj5vbQ+cTMgrE8QIIInHg6BJBYBUPywdBQKEmH0y3Dps1//NExOoXEdKoAMsilEo9rFRaIw12LPHlC8Q1QTCSj2w8uLrX5IMVLrGi/OEpETZm3ch96I2I0bfkqv75n8YwhUZLCp+AFAykJ5lBtGqeJzRCWQJTYyNfM2q+errM2FXs//NExOAVEdawAMNamaSqcZTmm+p+W1XW6gXAPEp2xHPw0CIJogND8biIcDmJBZUjRTg8/U1/W9YrlKij5uLf6eRQlGHFQEFkQWMiYmFRiaQlBNGm5t+46OSzxqo1Pxx8//NExN4TYda4AJKQma9MqwmLGVE9Tgacxhfi6v7tTsW45XGCw1hwqQRmERl7wNMunCCskPKko+8p74SuUrtOaTctQXbBZBABCZRBQrEiSSlgIeH6J17jb6fPT5595PvJ//NExOMRmaa4AMCSldiqLMpaKMbDG2JXRef1rByAxq+rabxsQm1DgwO5yhgWf8Rkk8SEx6aPw8pfYx/3cnI6sgMDKKbOYqhZydxuO1JMyCQWIh0OpKUipPd/7VPpNcyO//NExO8V2baoAMISlc7br9G1PkzneRu07k0IJncjoyMeRkznznIou7HfExc5/Q/2Xzq8J6Wo8FE8WzwYHN4hzbrD6NURFZxEqakv3fljSuQDAMBjIZ0oyL9kV9TVKVre//NExOoT+bKkAMoMldn8mdns22/tZp/zNbvOWb6m5N/tNJrnY1jUCHv0WVZqftMK21q6qRtW4MVkm0ao4WpyAOClRV4954/Lpjglkl4zHgxXQqGE7B9EPjZ3WKhVuJZ+//NExO0a6t6cAMpKuRIav7JVWpYqmrKQ1Lv/6l9/+ZAGeX+X/+fB6//+3VVr/XU3nvd6KjjptZUmyDGrCXIFSTEY2KDh4+OjBwsQmeXIGA8QYHhsaRGCw1FAWQ00uNSe//NExNQhSx6UAHlYvSwaC4eUaEJFx4AywM6rxhSFzjXUhOHW4ESsINpSg1JzlSc7QhEV6yelP9P/T////Vkt6ff9FLoymR2mKVpWcKVkdDAyGOnLe7aGMKOAjFLZ4IUV//NExKEVYxqkAGhOvbWYqCn7NM7JpKQnOkEFir+RFcx46jwasnA1ykhwBlDorCoMRy1GMN3S6lZo+GssCffpwtxJKTSK/E1pbX9lfyMoafQRSgANzOmXpzn9ifEkEVgY//NExJ4TsxKsAHiEuGAAoXd/3acTWBICe82q/D1FCqtOiKsDMrFBlSMsC8RHZGPKnJwL2PKURmwNPCboOJQ9VNFfs5aKDEUnVZ6eXP7W/f/puEG3VNX5ujTsW4wN0MBD//NExKIXCfagAMvGmIBEUq6dscmgpI8MLjojAsBmAuHAw4LBRwNZgGaiUyaGwxIqkgazJCcy4TglRqQmNiShHY6gsWTo+2B90KhX/sLAUKHv7FlgKRowEACzhiokGce0//NExJgTAaKoAMPElAafg4iCEcgU+GMwAOgUCAQw+AjAQJIgaYCAZg4BosNKtQfKcJbOU1yVdFRFMDI6hMmjjlU6ct+3/7r///6qZsYmENJMzXWsgsMZdWMVAQMUEx2c//NExJ8QYK6IANYYTBG+8wCNgI3NWfzlwx1wbB4NzxB4GjC0BiwFAEgRBsMVh858G8YGCgcBg4IBIBALBTTzYnC/NQMBBYCQIEOFaGi036buXz6BgYE8obhF/5ukyVnH//NExLAR4JJMAVxIAKOSgXDMin/ag3ygWTUwPJIMl/+q3/MESfb/9v/9VaStDS5jNhFPdpRgaBhLq1pcMLDFgEAzFxQKI5pZlvVpGFYHOMK8jbYA1KnMQZUgGDwQiVt2//NExLshWlKIAZuoADMFGuOPsroXI6nXSaYy+myrvxhy5Sw/fy7jT91S9wypojG78qlsn/faWnv5Wa1JrLH//GphrKvcqVpbNWLH8t60kcqAbdpI5ZXUWQSyDqjpDtm///NExIgfUa6gAdrAAULMh9ocUaAgcKUewADQD/QuwN9C48BLD8VFV0IcSxkyX47VHH6mV8fckaJrdZNf4v9+u6arjVKvcOwHero3lnB6m1vU/irxigT70BASOn80mk1v//NExF0TyTK8AIPecS1EkJyt8H6XiYBreopRKZA897MrG4DH72Kpg417Syfrj9KZT6Zk9fbTv9Wtqc73sS4UP7r/Qc2BlG+18rAdhAsYhJQv8fTcJ8BpquZdE+ASgWig//NExGAR2TbAAG4YcYYroYJbTLnbS+nID54PAKkH1TWrWzXTzzNV/HN/NUsWszVkDzkpfbgEsVabPD3x/ATIix5ZgJeAoBPujfFCsCzooLyRLTxp+WJ9nkLyq9kSurPM//NExGsRcULAAGvQcOvNzndfy5n+ennL3O9jdUkjVcbBENyr2N+/o6JNNHickf/Qtbf0FOjawSQ7aSqiYCiyX6aS8CEp1mYxdyYrKWUtNvTTAgJSxMdpEAmIYdojEgdR//NExHgSIaKwAJYOlOVYe4SbDnf/tqP/+W8e7/a1sJJDRY96sRS3/QpowIJFAEMcFUIcECDlIWQk0BUhhgZrBAKEp1OAx0wYIBVBrOZDwbE4FloBoGgol4vScMDQqC4x//NExIISmUaYAVhYAFwWSG0fJs3IuZGgYkF8KUFJEf+mnbFwE4mXSYIfb5p9h5RNxm3NC7/+7ty+kQQum8wIoaf/3e39AiijAxJxANE3//8uguFT6JnLUQjImLA3xZGJ//NExIofwl5YAZqAAKl0qmaWJaFLjLbEqzPWkt7+rNxRqC2wKIg2GkYoVRokiu759dHamQqEI1l4pFJjcklaBic9zwvJwzcnHRXVYowwlZcEywYY2OzuiCMiBjcijbZJ//NExF4heu6QAc9IAdtQUOuezmjR7bBHPzX2HSJJzm9BlN3sEDt9SQLyydQ8PaOeqAyz4DE0evL/TRMif//aJGmYBlk79f///k94Rc/bPpnOT7L3DMsI52HzQQnAcOxS//NExCsSiva0AAhGuachQmLCzhAQjj2BW6kJhmJ2U9WdRxIvMSbCGEuojo0q+D///Iz3//J9f///6t//X/orVYx0Wn+6s9Ho7M0pUFRElWMMJOggc6vOjiKEYthrAiB5//NExDMQsw60AAhKuUcNORyCrmcXEhQqLIzlHxYb5///KM1f//P35Zf//////8/arf0ejtmxVLIiGEWFyjbRZhZxYehxggQgqSYKIUjwiKC2HjEYWIUpQiJqcQDUFBEe//NExEMR8xasAAhKuWQVDxAmv/M5A9eVTq//v0EMzNpyf33/+uyvp/9Pr20dKf2syake6oPRxdmQy7ipnGMqOhYqNHGIpwxpw4Q4xBNhxRYokNqgTFVjxLEoCkVqpJrb//NExE4SkxqsAAiKvVhDwMZls7w/CcID97LE4HDynsHIln8zizvvKBolRLazMC6n/+lSBGOOd/rfez5JnsARI9W6LAJEqQIhIOhoVAXw6Gioatdxqx0EHSCyzypi3buy//NExFYR8MaoAHsGcNpanoBwZXr3QYgL1dRrSDANSLXMiZhVztSQdf+m/0+T1b3+/oUszhAENxAvOH2Zai4LLM/1VesjgKaIEjnQbyFr2tprudr9J7JAYaxuCEr10djK//NExGEQyaK0AMPKlMKI2/w5AUv7/7iVJzU0/y3zPb1ZuPWoUEcYbcRRufUcF55isC53rBhy3V5Z2TJgAmAWQ3ZRiAuZV/tE1qTWrq2EKeXtaJGuVaq9pxgLf1/+4zLD//NExHASMaK0AJ4OlP+6f/+oz5T7t6fL+cGWTE4MfcsS5oBpHVw1qdU/0NaRGgLzD3UswBvAfrwuQWlJsZCWFretrgP8GbdWwcCCzXMhdZvnCfVX1HzvHvU30N9fQg3G//NExHoROaqwAJYOlICoto4+D47OGgByup4rdB7V8M30gESN+saBM2qgqMmtsaP8XKNnNC/odP8ZTDNv9+eiFZ8BDFZvsQQS/gw3P3vP++//uze7jfZMHKJU/jK/pR1M//NExIgR6aK0AJvOlJ1JxwiR//48Ycqew3YWRFu4TZBywxbUaiSvdXY1tmzW8Z7X3gNr3W9xFcrnTyKFhFV2HUkIvd8/9czFWsyhpzHDBw+RdQlMNNjTMz/tWv/lOQlu//NExJMRMZ7AAGvMldnKIJ1t79xpC5T3mxIHMKXV6s0PpX4tr3X603tWvd9ZyMpyI0JJkpGIpz79d/HyOqsRA2NwkWjJIhTLrqi0Mhttf/na5cfRRg4EvpTibOTo/ANS//NExKESKV7EAMPQlHfYbCwwLMCRcZmBwZs5hwrW2rGX81htkukpUMKYMyjxlBopGAuFMMLDDgwYPCRDTaFjFiRN3dap/V0VOtXCVozw72UpLKa2X3AeIvMDgOz5LTXu//NExKsSaUrAAMMMldurn/pH/9XqTs9uz9JKZlBgkA3chrDFmcM1BmDmdlLtX7M55tXQQGosySDw5ERyCv2wD7vI50KnYwgYNFfHrQxooBAGRGLiWBAhLEC0SRian22I//NExLQRcUa4AHvGcO3eL7BcnkKgvYTC+40R1NscghD6UYqCAWcNKREeEfqr5+3vmXsxVLmeuBX1piV/8qUFCCvHMcqGAaHxgDWFkG4k1K57ChHqKI+jFDySxh0LUVF2//NExMESmaq0AMMGlLQ4qxAcNBUWD0OUqWmViJupHW0xArdykN91xfMe3r5a4jZuRsXJefjVKhB1ZUIKHJRIkkAiEyAJGoOmQDYiBhiAjOUV2RBayQHQHYVJeiLOo+is//NExMkUsZq4AHpQlS5m4fybXTIqHaMkZFKmwM5Ih6GOGBNk9Qhdq8yUm3pJrjOSsRbNAa4r/T29r4iHiabUqmR/BPJTLFIseWVoeWxrT5YXDizyvomMKRiUlYks+a2m//NExMkSyY7AAUxAAdRqXh6mu73v8XUGqDaagqDGQAVkm29goaFShgTAGoGcgiTOJGCBg5AqQwgN1GFoitAWO3ONwrFlTW7DtRrk7Ow/V5VlUbFCgUiV1u24rT57qwTf//NExNAhoeqkAZh4ALhP1lWtRmhpYC3v7GFnHHHXaVwX51Zwpqmta/vfy////rahp/qbKezuarTcplt/v/+WMatCKDKf/rURNJiDcBkg5lvELEaofFE8Z+IGWKRppUYU//NExJwgodKAAZrAACRkAGpqyMzgKZsBiiGi8pAPeE+hdWQIUgSh56BLGg54ss+kUxwF8VskksB0AwCOCAlsWwQoQpPJWrUmXjU3LY5h1NRqbmBkfb40E1eVzf/oKfcu//NExGwhIiZsAZuAAAzg2BmyIlcuKmRsQYtoLbrV/0DhFGdwIMUx0ENnSDAls0/QAAAYqIjs4akYmLwpqpKZUBgYLMiIU1AE6EwGkwhKT5YphbQdhd3UiOYm6hyKxaME//NExDof2fZgAZt4ALOB4MUOYsR2nDFATBMyTITCU1W95ite1q0/a23Chsnx/nCHRv/+4T///Wf//8ZZYNLY/+NRXtr//G42/v/MKfJ7ioMeswoUceDBcRpVRIkNdLaA//NExA0VgyqAAZg4AFQoCxlkK9JxtbLvQIx5MoccJITgMLHz3qoqEIyXJup8dI8sTHyjf/t3Mf/+7e/T//zEMRrf///557mGMZn/////5+rkFPoYYQYUQJgWHfumtKU0//NExAoUYw6UAcU4AWapyHJMZ/1Wi9k3z6rr/Z9TtWtf73aqK3+jXaqX9L1mGM6nU+cx6ueeue5+zujXSeOFnLWPHzD2lnMGDjiqj5MdDijGEiMwisaP//42YJf/+T1M//NExAsSgxqoAAhKvf53///02//363zFOTvqaRbbnRVvXoyMRCnuInVxrog5TsiHE0MScyihRcwCAIKCpkAMBhwUOEyDWOLxZg+KjbP+X/z231//P4P5///X/+//S96u//NExBQQuxqsAAhEvbt/zKzFWzuuzqinNmXYpHq7mc4IIHcKqkByDhGOUkwoUBjnDBwIUGMIBuOOwGPP/5Za/oodZv/6f76Nb/6f0/7K37+6tNbp6dmzlS2i3dmZiqWR//NExCQQyxaoAUEoAJRVzUeYzoJOpTB8CjWYaSOnFCkKgeKKmjhBxqlONHMqbKA5TopQCIQeYtbKrt9jIcTWw6pRyOhzV9F/V/SvbqjJ2dUaibly9qI6d7MoJxMhWQxF//NExDMU8uKoAYEQASsIYFRMUzq9ZpTFWgsOWAAxOOMJFUKcokQoP9GAAcGPYvwhCLEIQniEJ8/QxjGKXmMYxSlmMJB4PFKUv//+YxilKVv//////p//UpTfKUuUpW/Q//NExDIQ6rp0AcEoAcJB4BgCDoqUFN+KCuhBIKb4VUjoHMHklQsPE1oAiYI/lZY9FRwiQ/3hC30F1w4IADJQMCwsTbHCii8mA6Qgpyz9gfL3VvSTsko16XfZT695fsqd//NExEEQgLIEAGGGTOgsKhUTJil0pEIVFInDAQqhhVEqAgK/qXGMKeqxvVjUBDQiasNMqBrBYq7nSNT1HhKDUFXLBVQdkdTwa/LHlB2Vf/PCKGlBxQUGBRQGIFiBYGUa//NExFIRoMX4AEjGcBgYIOEDgwQUEDBBwgMGCBggYRwQMKGCggYQOEBhQwUEDCBwgcGCBggcBwXFRUVFRZusV4sLf/////iws2KioqpMQU1FMy4xMDCqqqqqTEFNRTMu//NExF4SmPEAADCGcDEwMKqqqqqqqqqqqqqqqqqqqqqqqqqqqqqqqqqqqqqqqqqqqqqqqqqqqqqqqqqqqqqqqqqqqqqqqqqqqqqqqqqqqqqqqqqqqqqqqqqqTEFNRTMu//NExGYAAANIAAAAADEwMKqqqqqqqqqqqqqqqqqqqqqqqqqqqqqqqqqqqqqqqqqqqqqqqqqqqqqqqqqqqqqqqqqqqqqqqqqqqqqqqqqqqqqqqqqqqqqqqqqqTEFNRTMu//NExKwAAANIAAAAADEwMKqqqqqqqqqqqqqqqqqqqqqqqqqqqqqqqqqqqqqqqqqqqqqqqqqqqqqqqqqqqqqqqqqqqqqqqqqqqqqqqqqqqqqqqqqqqqqqqqqqTEFNRTMu//NExKwAAANIAAAAADEwMKqqqqqqqqqqqqqqqqqqqqqqqqqqqqqqqqqqqqqqqqqqqqqqqqqqqqqqqqqqqqqqqqqqqqqqqqqqqqqqqqqqqqqqqqqqqqqqqqqqTEFNRTMu//NExKwAAANIAAAAADEwMKqqqqqqqqqqqqqqqqqqqqqqqqqqqqqqqqqqqqqqqqqqqqqqqqqqqqqqqqqqqqqqqqqqqqqqqqqqqqqqqqqqqqqqqqqqqqqqqqqqTEFNRTMu//NExKwAAANIAAAAADEwMKqqqqqqqqqqqqqqqqqqqqqqqqqqqqqqqqqqqqqqqqqqqqqqqqqqqqqqqqqqqqqqqqqqqqqqqqqqqqqqqqqqqqqqqqqqqqqqqqqqTEFNRTMu//NExKwAAANIAAAAADEwMKqqqqqqqqqqqqqqqqqqqqqqqqqqqqqqqqqqqqqqqqqqqqqqqqqqqqqqqqqqqqqqqqqqqqqqqqqqqqqqqqqqqqqqqqqqqqqqqqqqTEFNRTMu//NExKwAAANIAAAAADEwMKqqqqqqqqqqqqqqqqqqqqqqqqqqqqqqqqqqqqqqqqqqqqqqqqqqqqqqqqqqqqqqqqqqqqqqqqqqqqqqqqqqqqqqqqqqqqqqqqqqTEFNRTMu//NExKwAAANIAAAAADEwMKqqqqqqqqqqqqqqqqqqqqqqqqqqqqqqqqqqqqqqqqqqqqqqqqqqqqqqqqqqqqqqqqqqqqqqqqqqqqqqqqqqqqqqqqqqqqqqqqqqTEFNRTMu//NExKwAAANIAAAAADEwMKqqqqqqqqqqqqqqqqqqqqqqqqqqqqqqqqqqqqqqqqqqqqqqqqqqqqqqqqqqqqqqqqqqqqqqqqqqqqqqqqqqqqqqqqqqqqqqqqqqTEFNRTMu//NExKwAAANIAAAAADEwMKqqqqqqqqqqqqqqqqqqqqqqqqqqqqqqqqqqqqqqqqqqqqqqqqqqqqqqqqqqqqqqqqqqqqqqqqqqqqqqqqqqqqqqqqqqqqqqqqqqFERGCZOc//NExKwAAANIAAAAAACAYZBASRIxWj2GeaNuiAUEkRQSOXRisVvIANmxAAADDIXBM2ujRzpRAgyCBBC0YrJ5I0c6UQIGFwQJFwuG21EDEM/9QyaDF0aOSiDFIXOe1loM//NExKwAAANIAAAAAF0bdIEGQQQha6NHqNGjmoQAgSJggSJisVk+qEAreQAgGIisNt2jRo9QCgUYoQEjCYXBMNpAmG5EAoFDESMMGC4JhttQUIG6IBQgTFYrbD7/isNH//NExKwAAANIAAAAANcpmQf8eRUBu3Zylf/L6Q4YMywrk+gmAJAJmLK8n0T6QfMLlG2NL6ZcNDeI8EFwxaCxgDB+W2UqmBIhNBH5VGMFKfzMuLqrFxCwDnkeRhqWv+gu//NExP8p8xlAAUlIAYJoqTWXyfJkrE4YNQ//UgifZG6S0GW5fNi4YMgkjS+//vdFSTsipNSKtk6vdZvPZW/YWAAA4sEBUNfYCQG5VpmlWJn0ILwsO7N+rEoDmE4Q4gws//NExKohex40AZqQAa8n1IE2TJASZMuuRcnyCE4OYsokcK8GAk3tiFwwGHThtguQZABZAZSaIYLKDEX8LDwxOLGLgIoaG4oEjiJGxkRYx/6mJsvqN1TQioypDhQQuYpk//NExHcg4kqQAZqAAVRzTL/+xPmb/yaIsNXOrKZSgJOpCBwxnTEgCWMZ5OmlCFzlQy8VHMY0EBwK7cnppTQKxGRJ3tqYvGi+JTcXLxjgO5m2IvNrpTEZHOFkTkwSCH2T//NExEYh8g6YAdp4APUuUSuCYHjVxJ0rwb8reio6ZW7RX0Jk1SNmmIMSFtgWGqdihlvYVFHaDvK94+l2hjVWt2u0b6q7rFrdupN/////qd/jk+p6tlAL2Q89RLeZGUVy//NExBEW2fakAMtemdxnIDqxDPyoxfk75j5Ug2mLp5nQJEDVJqW6IFbFp8qtwpFlPVcQJO/iLe/9OdNfOHWfil3Wv5VRHzSi5Yr/WmLW/XLLneMSuDphitf8omSfWJ0X//NExAgT8baoAMlSlW+Kxn0a1C1yERV1ditxI2d/VDbsJDiE7nRi20MhnkAfSFUm0juXjA2QEpLaiFRE/1NmMa+ev5XGNfdWnKcYq2Jm4la42Toh6sZxY7VadTbNOQER//NExAsTSZqgAHiMlJfX5t1ikV1V50+/qRzOIA3D8CHJpF9UJbj6y8v1ddpq6bs79v/v+9u7lbKNCh5YnXZ0mZFbGtNKQ5b1JGGsnfd/9NVaWSKIRmo2nY4vz6hj3lUz//NExBAV0bqYAFiMlVrstlMwoBAQAjQZJJ4P3wvO3y3nXa9jPE7OfyZNY6m/3Xmcq9m67cuyacxvPd1Vxcv2a+p1eRmsGNnFfz3I/n3A2hPte7d2lQzvQydqK/+YcnU8//NExAsRQQagABBGcb/Ky4hsoo6Uc4kDjxw4YgB2YxC+rreaZ+HNszMrT9Pws7/7n/WjKva/U1ueXGdXZ5y8DD+d9uf7912a2mYHB9H9CEXR2anL///2vCq9qnz90pEQ//NExBkRCY6gAFiMlHshBL4lKzFVe2Rlr3J761d/6/IySEZlj0pLb3FS2WAxjHPIPW6nZ1naezSq3hfrw6F2Alxe0pr2i5EdsZ4gDs+r+RvJ9PU/rUyytyJYVmEER5ik//NExCcRMcakAMlQlCyihqjwUCZokkXf6tET5Fx68sCgd7YpX8nviCkhpms6A5YLjHNVqCJgnF8B8beJD+Rt5z+V+PPjVulUKiSZjMggGfrDATTd91Uyv3X96yf/1cMf//NExDUSeeKkAKKemBmVap8Qkwal/rEjhj/LW7/9JIlQMef+VkVFI0bViu+AgYQs7hUDLdRaboS+hvqmYcKh+gqA2FzT1MApLafUB+NUnRjWQsfsPfved/fdfsO+/PCD//NExD4SOd6sAMqWmDl3wnX6ppdcqHcq/W7j1hXdK2k/j7mumzXn8uFs/5GZ/8CCXmjI2pXWG2f5aFkUnq7G1IKXU7cEFEtp//83kFinkGMNDEoKWBnPxuY9qp/HUPFA//NExEgP8aawAMpElWeS3UEKUEnn7pM7kDi0onB8BO3anRcyFnDSVlhK7evq1df4w9/oX5W6l9S8gi2jfX/1FeQaBWsqeUVLK5b/////8OWUXbk+OiATtryabKosYYyn//NExFsSqc6cANPKlGgYmbnS06Szyx2SQeKBIF8c+TQm0b5HmhdTMUGqZam1HztTlu8RZBISQ5fyOdELDcqqjMQctWwEjE4U9zO4JYYtkkAw4JP6RTDAyAYxGS3tIvSt//NExGMQSLaEAN7kTA27IWlVMypcG04JosVnu68+Jm3N59tbmOCIlMyH8tiEffurDDQCQkprFdsggAEwDCoxGmgzbCorApRcQAeYDhsY+wga+C8XPQSMrBoDGOgzAeFu//NExHQSMLp0AObeTAFAhWolIXIBkBghGNsqEiF+QtHHsvHSAlQuGZ5Sx0GiKKzEmi66kjhUNEuaepv16l7pwcDQs8oYZWOGDRRucGGPRo4Y3M9PpHGdXNJvo3////////NExH4hcxpoAO0Ovf/v89Ru8fRWsX60+5Bi2EGFgIx2Xy50DB4NOfAKBewah4BVEcWIVlER4Ea0QyzXrzTjX2htl6Gi64AkN/B938lm+3I7G7fN3Yp3XPyr8w5/4559//NExEsh4xqAAOaOvf/DPv///+v1nnnnLgMEgaA8YkJBQaKTJgsAIAILCwWDcmee5r129jDz3d2PLTTX/////////9piqco4WkrDv9pRkh7qs+xcj8YIez8boKRBoyIQ//NExBYWkZakAMZKlCANAjdRYExHQJ0bxQCjfqw7Tbs4fjmdrOkww/eqe7b0hioRtUbol3//VCuHEM4KYUIKFDguHBoDhMg40JwP///////m6v//woxEIWnU1H8l8gJo//NExA4VaZaoAMZKlHHl32YBL6jVLF6TjotwNFwQ6GUAlxT7kFC6nZX361+WUmGOVafDgcJzEYm6u3f/Xc1ygcNAIPgosgwYMDogHmUUEQWa5n6sxepZgOcFXl9NCohw//NExAsTSZqwAJ4KlAmCoM+Z4MiBKlWXt0D/PQBRIOvfla5aYEuiN9/9U1uHMv+Y4cbmcov5l+shNSsH2mQSBhUXPQxxUNIYxRUgWkbPyir//85hjIRyH8aKcyiINiC5//NExBASIaqoAMRUlEGXWCWGPNrzFMDOE/Lrl8OgCzR/UgOQISpVai18w0m+g9bzyL1H4iwEt9CX6kYsteaQCqS41/PZmpRrLt5aYNRDUWjTj0RpuCSzAxYYl4MFlYDS//NExBoSib6UAMvKlXeoOZ0SXFwn+9L5BkdFxVrXUduo+u7GX5jP5S/LbR0OAJxXUpU9DK3crOpUEzD7iVVj7rP9AIoTOJLOM5M0JWCY0BQCnKcqfyOUumn+jMZs63KY//NExCIRaMJoAVpIAHaWGTVImpb/H5JYVLkuCEEg0aDQUDvt1PwVOt/skj0OlTrg0kYwH1AMpJKKyw5pML79OOCrNHjgPCALhLAB8HBCNDgBSwi/VyBUmNTIAILvzxu4//NExC8dSxqIAY84Adz4PUB9HiX889xLOMJygPhGB8I4Pv+OEBwxhoQkA8DSAjjUbBUsEv/6vP1z3PGo4Ky44JZYmMDQ4p/////lzESQH3JDiMdVDuTxaLa2mRs3k7f+//NExAwT2wLMAYIoAf5vb/9mX/tfvU26ertkUWD5Bxxcy0AgfAQYHwIu/94mMdyCZyMKmMKjxiuUxxccLnyZG/41RxylKOIzEtoLIIqNkrUK/egTJQJi4fACB8ZXw//f//NExA8Sid68AcsQAf///2OOgRqKhaP7d6K7IZdvqyOtpUggKUtjKUrXKUswqUKyKBegrJuXH4u4VFf7pfhFTcRXgrr/Bdz+1dVqaUyUUirpbrTP8AExVGr15jqA1fYK//NExBcTGZ6oANJGlQ7Krmg8ZyuWWgdN1TRnBDvZHEOAlpQwrc4K3cgomYgNV/bLKlPl1rLiQiBKw+klFMgEWpdrqv5lRCEicU0t9oktJRZz0wcSn8bjuU2+RNY8OzXS//NExB0ReLKkANaeTAPxerKtj8QqN8r6ijb+MwawKGiAit+JQkBf8UasFAMJQCZNkkhQKrdTvfNw+WG7T5A5AOCGZsmsHKwRBrAMDMUsStrCcrQ6/fGAj3Utq4KCDkPx//NExCoQGKKgAVrAAElJN73nnbiAnTV/xA++f8LQQPodf/0qpjXEnCMuQfcUGmBlDcgQlhJJBKCYRJB7SYF2HPBGbGgJxIzAigNFgFSwIO2BZhhaJJIrsgSFHEg4C31M//NExDwg4eqUAZrAAB31HUVpPF6Cfr8wprenUjcvyw1nv7tzXec/livft0lmiud1r8sP1z9fV+xY3n3W8+fvDLWfOVf1+v1/O85v+5VSXqD3l1/+ipVxo/8KjKqgN0JG//NExAsT0V7MAY94AA7ycFSY7atqRyejDZk0DYPxobYkZXPI8Lbc8dbYY1LVZLxY+HikZ7fP+NxN6+4FN7+9+a3//eZ3v/wybdukIO0kUf1l6v/LJjV3n7eps3PqxBJu//NExA4SQTbEAdhYAF3YkhOHozvKywSvJxjiDEBW4eiy9ypMqEjMDa+qal98QT75a75o/7TWK82TsqA3FqylRNZRxE5CTrPo8Owb7ukMYfX+MhXZ+SqAM0L3U9gi0ZJT//NExBgRSTrEAGvScSX2Pv0GgLb9jIoY8ARCeTsEThjPhpBnVYnnjV/25BDMWzyduHHysvKvlRjyrNXqMwpG6DmQjoqfEoDyq9+wfp/TY2XURmJX5cY/1RdXLR2m78eQ//NExCUQiS7EAIPWcBkE998mTOUVnv3Hb9xs27hyx8RGrPUBFh04PEaVKv/PNZY0yF5bnGNrNeZGJkfrHaBci1SsJ8OXpf8aHv7EjByCwhhURumDkRb4eG+Sa9sWlQ56//NExDUQqSa0AMNQcNT7LCMtLA0BQ2Wq1ZZFWU5zYE/zYhMgdIZuMZQyQzEiX2oY4u5l0urXbFuM4d1lG0r8irisXE0UyiEEUlCUPRYlyBGWppluNYumJk0KpGLM/f7p//NExEUSISp0AVlAAGJfUPVPIS2AABiNgsVJJFpTFWqVBEZ0QQLS90bigOYa9TAZUiBlTIGZA+gmtwN0wA1SYDPAANqv632sBrVoAT8LYCRhdX+2+AUMD5BcA0zBf/+U//NExE8hqyJQAZmgAcZciZFBzCIC5///xmyJjMDmEQGbHPJ8WRb///xzCcGbIObkEIoaE+Xzcuf////5gaOty4ggnmk6ggJ2maFVf69qDogjqNDu1cP1yGcQq3KsoTYr//NExBsVkPqcAYxgAGBLk1Lw+xiEOJVWkQcBsYIxoIQ6D6hf/7uv3IuE7c98yfJu/p0Qf/eXWUKQKowIxRH+169OouHj4wyFqgzHXM4CGl7svdE6s5XQSYwfEQcOi8gf//NExBcRerq0AcEoARVSuourtdp1fq36dP/1vf7Wfqv/bnSp7f1vo31Rnncjz1kE3Og7MuHiN0x399Uf8v8v/L//4QmJhhT3ZGYfzb/6U/+//W6KxvrunQ0syqtGtmx6//NExCQQSwa4AAhEudDBWrKzuQxSPMpVClMUwUyAwwVTCg7RkMZkFKHyKuFB///Mi5Uv/5l7/////////////HXcf///Xc1zKprbVV1el/1w6TjLlKH/TEnoiQ+UbIYH//NExDUQqxqwABBQvKm0pgpEnkHGp3JjuNtNcv//OY2DL+T/3L/X//X///6f73p7fs2j2/NRrKdzq8a1UFEFBBJR0lCOZzkChRVFjKExUTDxlQWKCB0gkIjCCQsJtupU//NExEUQuxqwAAhKvScR7QiGO44AEPRLMzO1bkYk7wdCbezenBHf//f/XqXmf/0/9LI7o6OX//9Lo+VtDdSsbmzaOUKQJBdDYR3gT0tP/2EMxuAIywvRBWJzLYGrCMxg//NExFURgp6wAGCEuSuPJXofSaK5sLG5PX8KeWHiHdMx6PihlSJDhADkWBYEA9EG2k2mn2n1opjsKZQhe79QYEBxIpEG5FX9IRLLsm14A6nJhBkD+jBwT4Yo1HCNdji1//NExGISCTa4AHvQcK2u/10WrXS5lmJOEEJRIHIqRTj1mPW+r1i7qibUbC7N/Y/77ntnOVoz1zDXsMPjQ0kKLAbkCakzxbAkXGPSbkez7Qz2rtHld5zS3C1RfPwehEtO//NExGwReTrEAHvQcaQOSSkbRRlMP5qdeGxUE5yKkMWawQtfhREGjBIFURKmLpqq/M6PzBk6ShakEpEE+D04Ogph0EbqQYNOQkzub1drpa2ipNFwbPAYHFiPVxdLxVyX//NExHkSET68AG4WcFlMNB+thzEUwyvvm+f62TYdkfrh7DL+M/25B96Vu3xcXOEXtCEgCtLTMjN1nGWYuii6kmXvdt1XMnobh2HIVJcZ0vbXcLFsqjzaIlVZpb6vuvr7//NExIMR+Z7AAHoQlfisZZU8TWcXO3EV/WzKUDpBqJQibJA6QNUhLZt47hM24r3wsQcVl+Mb53J7M7sfZgFR4kJUxqLt3mXnKSqTZNIgqBKtdFKKy7//7gXIbFZFbeb1//NExI4RYZ7AAHtQlDcE2N4ZIpgBEcZCSABHR+AmgNJFmS9mgxoL2EzXe0fUfbrq31yvWmuPQmLYggdRGSo5dytrbXP2u9ltrnsrvZWgkBXOe7/PCUqpSGCwZAAWXOKk//NExJsR8UagAHvMcdgUAAl0YEa6F0G0Slz/S6UztWJO9D00BMxnSzszlpUSoqWKDwm3bUe07b/XvYJft/7P6fESlmPQ3Zyy1wCjjJZU6RRpFiVZbo1RHtUzJHGNKNw2//NExKYScTJ0AHvYcGHZtBUYcoPGWxjTqKRzOUKxeq/aomwaFiSb2INuT0iKVRndTzq+n9L//febCiBQVB1hssHEgnEgQIcSGcZqhNSFBUFBQYwoKhrKaw1ZxIYEYliQ//NExK8Q6KogAM4GTDJAKgIFAZJAyRBYmEgKFQERARIewekWApIex3/////0MH1MQU1FMy4xMDBVVVVVVVVVVVVVVVVVVVVVVVVVVVVVVVVVVVVVVVVVVVVVTEFNRTMu//NExL4RAVX8ADGGlDEwMFVVVVVVVVVVVVVVVVVVVVVVVVVVVVVVVVVVVVVVVVVVVVVVVVVVVVVVVVVVVVVVVVVVVVVVVVVVVVVVVVVVVVVVVVVVVVVVVVVVTEFNRTMu//NExM0SKOnAABjGcDEwMFVVVVVVVVVVVVVVVVVVVVVVVVVVVVVVVVVVVVVVVVVVVVVVVVVVVVVVVVVVVVVVVVVVVVVVVVVVVVVVVVVVVVVVVVVVVVVVVVVVTEFNRTMu//NExKwAAANIAAAAADEwMFVVVVVVVVVVVVVVVVVVVVVVVVVVVVVVVVVVVVVVVVVVVVVVVVVVVVVVVVVVVVVVVVVVVVVVVVVVVVVVVVVVVVVVVVVVVVVVVVVVAObhIAAA//NExKwAAANIAAAAAMOQFgHNyWW4DBZp2ZmZMiK4hk9okCQ6ABh4DJsCAAIC9BAAESDgPSaZhBBzyaed7vth5BR4DJ0QCEN8RHfYJ6YQQk8mm4Hz4IO96qwcLg+IAQeC//NExKwAAANIAAAAAAcB//oWHygY//iMcCBcPs4eBtYBUzdYuAGzekaByQoHkpg+BPCh6ewwaSI9/rc3Qk8nBnE3GX/23J4maKRp/b9mJc3Lhob///ppmaRcHoaqP/////NExKwAAANIAAAAAP6DJIku5cYuMxf//8GDIAOBFJAYkaUkRxmXL4c+YzbrvtKuved/lM3937zOe2YRn23WvRw23qTsv9m3nJ29/lhltfa/Xn7329MplZvvz19f+851//NExP8Z+Wj0AUwwAPZgPFnT8zM0o2sy/wRVu2/dQ+dvn7Hrf6x5fOoSFqKDKvn9BIb9hAVsvow4Bgdn8JPbXxiQeFtlM4eMksG76eOU5PXnh9UMK/zOYu+f7gR6sHCn//NExOoVwnJQAZBoAKXsbOWUczXhwWbGNF6p0tVcvVQamUl+dts02uTuz+uTXOpaF2dysy/2xOUmt4qVj+Ci1W7ifXVrPQYyjuSYZW0JA1FZ3bXGdBLWnLpFQHjsf3iw//NExOYhSw6EAcZgAYCEYJx2IojltYoVlcrkF9GkDgvoy2ofA2OA6ISo/PV11Wlv8iH7kYrkBZhAO71ZeuQ4hyIQ7I1GQnas/vtI4sJ8wcfX+d0/1j1+t+mc1tm8zu/l//NExLMgEyKMABDYvM33jP39Sa8fW86kYIksnzeBFjvI6gtCiJ+FeR+2oYn0P02oXtIKpEPWbCIXb4xE8XxCT8UivSCJJwW8ebQXxESq1SIaeeUQkTsIK5mW3x36Acqy//NExIUgayKQAAievJ5TX/ISxmzwEz97/l+pByX500Ky340hkdb4ZB9bZt8/H/17zV9db1qm6biVjQbZzqTGNZzq2qwo0rx8rYEa1JFTdwo1Xo/aPGeJJREtiQmSZDnJ//NExFYh2yaQAAjevKHiw3HLMzKSeIpkwZRdUYW09jlQowjcQ8zD+Qk8EseMArD2L8l3aRHDI4MRcEAwxpNVAv+RXZcj86rU7kIS+bb5QNznI/7NRtFNrb1dlz1f3/Ib//NExCEaWx6cABCSvF/m/fvuoTvYSqs/v+8l99zypy1TG2FLT6kG0j0U0nFnJyMYziGJZtObaTmrXsj0OigrAVxFUhQdCQpQGyBQRMIjIoFYIkhe32qBAiQFAkx6zLc4//NExAoUiq6sAHlEuWegag8GNnkcH4cDhXECGzutF2PrV7jCCoP7vtu/2S1eimVlZE/zf/V5it//vUqPy03zeY5Wq5S3Kjly5WDG2iCZeouDcZRRrVXX3cZoFBo7v1SR//NExAoUKbq4AMPalQzFiMZwTwkaXvHgk8i6zXSgp97gx/jWIPz8P6YqwkoCtketQ9C4aZiS6eozN+mYJXUO8c73U3rf0/fqOm62UZHn8jn8n/rC6ywAvC4HsIyAVxp+//NExAwVUb7AAIPSlQwgr01rqZBKCbebQY+/8Q7/23Snq9lf31UaLidGUBIHSIECSKy9o5005dGXRKtIDBg0yjyVZuf173+fu5bmwd5ZDWi612FaGOdq9bAuNpBqIIs///NExAkSibrAAINSlZkMwJg0zEcIlDc4U37GjanbmJq0x9VMhkNzQ4VAhHu2kTqQ2KRIvP6VIGMaW3J7KW7DMjmwzZbk92U9UEMFlW+r1epYvAupQXURoGISGYcD8Cnu//NExBESQbLAAInWlRj1HG5x7dB72okyq3JCCHypSBKGQE5+JRJKRzhIlFZu+kicbHK+ol/uez4dVnGS1qSzhoMI+n/p5/9wl4+fJ8P7GDPdh20ymEtA4t1kdquWexR9//NExBsSue6wAMtamETn8qO7pj6ExQWyxyhbwsmSrKAcLqugJwWqdTFSPqOdaipPppEn0DIaT/YwNfmvIv/91FHy+G+byXgJkg/lEDQXqHxXxArcTFuc7qhCEGC0UWOB//NExCMRoba8AMFQlFhwH18UI4Nh/LkHfkDg6Ob4Zr+bmvimb96a4SShpyzT6yNA6s8N9XgVZTIDbyjtLEMkQS0byxlIXF1bOG1l191ffViUDqGaQ5N5pRUOQW00M4dD//NExC8RiS6oAMvQcNf2Fn61Fa4kkV6w1UHcFawVfCT/La3V1U9gCAG8aMZptR9WRFCjGhAMhkDNGnwe5ENNHZY1sBCt0fCFR6VgicJpEQpVAKMIyWSE4SrX5xyRU0oC//NExDsSMLZQAOZSTIdCbnUlssLu/4lds/SpFSyglEswKzp8BMJtHpLJbt/BjNn5pojRW6udm/3+ax6FGVQTnANDuwVpBW5s8WkFMtbapyFFDftuqmSDtPa5yNN6v6LG//NExEUR8IY0AVkYAGjrrSsESBByxKjo/8/WbfPJz58eYiYr1+8zBgZmiVboOA6AHpgmNu6BoGJws+AccAuHrTVxZ5eIMDbgDAKverifg1YOwcwnDP+35HitxcYyBm5N//NExFAgGypIAZuYAP/r/mxOEmyZUoF9/76v/y+T5aL7kXPoFAgjE51a/+r//mpuQRBAc8g7kXNicLZFCopkBhHSgzxo6FL0uC7i6TELJCSassoGAGFIQHjuyQgoMd5B//NExCIbIcqoAZmgAABK8AI0FooGckAYcYAoLOkHNzQIA4WLBvg5YAAQLWwBiZU+S6e4xSGGxaT/VubnGdVjJSG3M0kKCA8rLZnPGH/UaIfrJtj//J/Beuf8y1weGpq9//NExAgTGY60AdmQAGexUVNTOEhUtyJS5uwGTSRwpqMA0DRFdIWoC5k25dEYhgwgBoanhtJupIqu6nPNrbs/Z+/UnW6JeNGsf7t3bWo3OFnTFef+CqQnPt3NmQtPvzae//NExA4VmaKsAMZKlKDrIrjKwoeZwT233BayR0QBbd9GUvZAnYy5KQrmWs46yTLnyqKd5Eg+2hych+nYroUoqAZ1KAoi7FK7TFehnZM4gKEFDNH5Iyr+fg4ZTKjsYwWj//NExAoSgaa0AMYOlJZ63HCQfeZSkqRp7Ey8Bh4NAiFS+z9s2ePE2mOb5x4ov3+1ov3Ut1Gp/HvTyq8dHugbdKluo6+g8Yxs4ho3+6jmt3CVoONnjdlI1i93VQLqWMeS//NExBMTmaKsAMZOlKABi4qtqQIIycSIVowkqPIYd9pRFBzv9Zd//qMd0FTcoM9DfJ9SVqgRc41QVF1YmPXUP1QUtPlc/X99NWrOBnoIwaufG4MerHwXVou/Kw41TuoD//NExBcRUZK4AI4KlRXKQNbN4wadUOGd1ma1cv5NyHH/qX/yK2ok+pvb0bqJOpAOIOU5xZ7IXuIC3AGV7BbcFVzMOgD7ZYC3Cku6laCNvca9Aqij9JY+oeYVvpX9wHFW//NExCQRAVa4AJYElTUVPDcPw7jnnT2u/IbuXa3/5FM6ghAoggAWXDFi4qQC//pyB7a/hSIVT2pQrY20Zdp8pWZrT4j4VQuT1RgH4jg2w4wjY+BNj4JQQ8xE9GYHtrZ1//NExDMR+Vq4AMPElHqWltk/1vsjMjFBlFlCqw6gqcPWVP8mGBLO8F0J65Q8E7aGo/B4EueE8ISN55051bkbUBoKOn0XZeBXC/WJPS3NrrbNJeOek0klG6tS1KhZQv/P//NExD4RqL64AHvwTffzl7mWtYuezf5CEJvLGV2roslzk3p40WROHU+sYAtqECEDNBvFvJeNw4mQthXGAxGggoBgcg4cHKpc041FUctJPt7m31CY1ODF7///z+36/kNa//NExEoRuM7AAHvYcdAWHPtaO3AQ163qpZjpguKNXxr9FCEAZNQBCGEo9jkdCcJxiRTkfl7RgmZPLbfGqXzr/+TW87+TXZtf5cMA+t7F9NxSPkI8Z4YRsiHHWHMKUP4M//NExFYRsTLEAU9gACQ49xSC5BohfB+o8gkw4llo8AifDQKqXaSpTEX8oEnFGXEbMkMxZlMAqoqYPVD8mxd9x5RxrKnSwC93lpa1PlVqUl369T4BpKaanojYo7FLW39S//NExGIgodKwAY/AAIcstY8eGGIXDV2xS46yz1/f/+5f///1LdNVqAs3/8JCOj1DVLkCeqAlC5HUaRIj1MonRfS3niHCLsoaux+xEFNJQ8VImSvBkUE1Y7A7ex6pHn7k//NExDIfCaqwAY/AABDsxKnigmXRqOyttHHmonG3IcfXbu+alVLc+moa9FfppmYpM6mP59jsYl8upanJiV0mF/mP4a7//3tqrVwB4JKFzhospPmgl4sK1YA/mpVKQhyE//NExAgTgXK0AY9oALes1LCSlxZ8RRzHCOYnGbGigsRFjAGWrywpmh51rUbalomx4ulITBaLVU7utY7Cs4XjpxL90X8liVKZ88m//QHwiLL//gMjR2jIEHLtM37RxF3P//NExA0VgaqsAY9YANYjmCGCwMEg7tQRCFBPcbPUuM1LzR0TE/tSp6Juh+01SuXeDsuHw2JiZAk1m51Rf+PhiT1V2OSSf//P/7M5IXAjwoFdTPBAQeov5YxORBIhKlUl//NExAoUiaqkAY9YAMOoH03WZI4NsljeqTr2gdEYddv9nQ7laNf+d8RTlDxJ/9b2bhaCQA/JQ2iIq25ceN4qp7HYQxqarOi56/jr/+2onAMJKf+v9SpVQhGtJ+ngj6jK//NExAoTCUqgAZhIAAHlLcZPUdZ1GIzmV0RCReNNeueX7633//DwXf/Xj//ZG2MBMgEio6KcxFE4Suh1iTsT2acEQdgVC4JBjUtmt/e7yVVuOYW4TYXIuSingvnz58xK//NExBASQbJgAc9YAOZnz6C9exa1rXX//////w5zr+UTVrCUCEAkAkHkdpq1rf9rWta1rXOc53tb/LWta1zr5aiamod/loKtE9Byiwry1PC+4JOhIFxZixIDTYw3AZI0//NExBoSaTIMAHjGcK55mZMewDVyCgTVVLlzVmqr4CJAThEQnbJ1ytGKvGG3IXWMMaKWr6KfSjaLu0nYumAQ41HOaidLCgIlcMKoCjzSIB31XnvPkjMmkSJGgaBqIjol//NExCMRSLnsADDMTAVDQmPKPA1KgIOnQ1BqvPYNREGpVx49ljsl/+s6JT3rOxLVTEFNRTMuMTAwVVVVVVVVVVVVVVVVVVVVVVVVVVVVVVVVVVVVVVVVVVVVTEFNRTMu//NExDAAAANIAAAAADEwMFVVVVVVVVVVVVVVVVVVVVVVVVVVVVVVVVVVVVVVVVVVVVVVVVVVVVVVVVVVVVVVVVVVVVVVVVVVVVVVVVVVVVVVVVVVVVVVVVVVTEFNRTMu//NExIMAAANIAAAAADEwMFVVVVVVVVVVVVVVVVVVVVVVVVVVVVVVVVVVVVVVVVVVVVVVVVVVVVVVVVVVVVVVVVVVVVVVVVVVVVVVVVVVVVVVVVVVVVVVVVVVTEFNRTMu//NExKwAAANIAAAAADEwMFVVVVVVVVVVVVVVVVVVVVVVVVVVVVVVVVVVVVVVVVVVVVVVVVVVVVVVVVVVVVVVVVVVVVVVVVVVVVVVVVVVVVVVVVVVVVVVVVVVTEFNRTMu//NExKwAAANIAAAAADEwMFVVVVVVVVVVVVVVVVVVVVVVVVVVVVVVVVVVVVVVVVVVVVVVVVVVVVVVVVVVVVVVVVVVVVVVVVVVVVVVVVVVVVVVVVVVVVVVVVVVTEFNRTMu//NExKwAAANIAAAAADEwMFVVVVVVVVVVVVVVVVVVVVVVVVVVVVVVVVVVVVVVVVVVVVVVVVVVVVVVVVVVVVVVVVVVVVVVVVVVVVVVVVVVVVVVVVVVVVVVVVVVTEFNRTMu//NExKwAAANIAAAAADEwMFVVVVVVVVVVVVVVVVVVVVVVVVVVVVVVVVVVVVVVVVVVVVVVVVVVVVVVVVVVVVVVVVVVVVVVVVVVVVVVVVVVVVVVVVVVVVVVVVVVTEFNRTMu//NExKwAAANIAAAAADEwMFVVVVVVVVVVVVVVVVVVVVVVVVVVVVVVVVVVVVVVVVVVVVVVVVVVVVVVVVVVVVVVVVVVVVVVVVVVVVVVVVVVVVVVVVVVVVVVVVVVJsHIEnFy//NExKwAAANIAAAAAAWgVZpD8U6ELtycLQROAQhCArShiNJibBdESEaztzG6YXaQJvR1nvUC+o5MOcJzdhAc0p76U0rwy803ho/9NOU0plml/eDCD6iYYCI5aFBsIvjY//NExKwAAANIAAAAAAxCB3Cr4DOPwJ5ALANOgmo5Bby4NRCw6BjnQ2uCeHQSiMPqr1JZeniZAeheonAZm9nNrLVqCoMgyFVGUcVUFiY5orNiws2IwjFjDwTBNizlQuK///NExKwAAANIAAAAANQsSNGtqxT2rYaWzxDFqgNYXMRkQ4cpPCbiwivFkXsxQBAKIBOJQscNmUStTyX/3JKjuUx2cqf3KiO3+ZUOxgpIGSISaEgKFQEKgIJAUKAUKhkF//NExP8aGdnAAHpGmIRmQlqaaFf//7AE3sATAELAUKGqTEFNRTMuMTAwqqqqqqqqqqqqqqqqqqqqqqqqqqqqqqqqqqqqqqqqqqqqqqqqqqqqqqqqqqqqqqqqqqqqqqqq//NExOkUUKn4AHsMTKqqqqqqqqqqqqqqqqqqqqqqqqqqqqqqqqqqqqqqqqqqqqqqqqqqqqqqqqqqqqqqqqqqqqqqqqqqqqqqqqqqqqqqqqqqqqqqqqqqqqqqqqqqqqqq//NExOoV4SHEAHpEcKqqqqqqqqqqqqqqqqqqqqqqqqqqqqqqqqqqqqqqqqqqqqqqqqqqqqqqqqqqqqqqqqqqqqqqqqqqqqqqqqqqqqqqqqqqqqqqqqqqqqqqqqqqqqqq\" type=\"audio/mpeg\" />\n",
              "                    Your browser does not support the audio element.\n",
              "                </audio>\n",
              "              "
            ],
            "text/plain": [
              "<IPython.lib.display.Audio object>"
            ]
          },
          "metadata": {
            "tags": []
          },
          "execution_count": 17
        }
      ]
    },
    {
      "cell_type": "code",
      "metadata": {
        "colab": {
          "base_uri": "https://localhost:8080/"
        },
        "id": "F7bWF0VTBm9r",
        "outputId": "b12a28a2-9e2e-44e3-b5cd-f0e414ced7f2"
      },
      "source": [
        "fst = 'My name is Kalpana. I will answer your queries about Science. If you want to exit, say Bye'\n",
        "r = sr.Recognizer()\n",
        "prYellow(fst)"
      ],
      "execution_count": null,
      "outputs": [
        {
          "output_type": "stream",
          "text": [
            "\u001b[93m My name is Kalpana. I will answer your queries about Science. If you want to exit, say Bye\u001b[00m\n"
          ],
          "name": "stdout"
        }
      ]
    },
    {
      "cell_type": "markdown",
      "metadata": {
        "id": "mJJVaNfSLgDo"
      },
      "source": [
        "TAKE INPUT VOICE FUNCTION:"
      ]
    },
    {
      "cell_type": "code",
      "metadata": {
        "id": "oRECd6CFonlf"
      },
      "source": [
        "from IPython.display import HTML, Audio\n",
        "from google.colab.output import eval_js\n",
        "from base64 import b64decode\n",
        "import numpy as np\n",
        "from scipy.io.wavfile import read as wav_read\n",
        "import io\n",
        "import ffmpeg\n",
        "\n",
        "AUDIO_HTML = \"\"\"\n",
        "<script>\n",
        "var my_div = document.createElement(\"DIV\");\n",
        "var my_p = document.createElement(\"P\");\n",
        "var my_btn = document.createElement(\"BUTTON\");\n",
        "var t = document.createTextNode(\"Press to start recording\");\n",
        "\n",
        "my_btn.appendChild(t);\n",
        "//my_p.appendChild(my_btn);\n",
        "my_div.appendChild(my_btn);\n",
        "document.body.appendChild(my_div);\n",
        "\n",
        "var base64data = 0;\n",
        "var reader;\n",
        "var recorder, gumStream;\n",
        "var recordButton = my_btn;\n",
        "\n",
        "var handleSuccess = function(stream) {\n",
        "  gumStream = stream;\n",
        "  var options = {\n",
        "    //bitsPerSecond: 8000, //chrome seems to ignore, always 48k\n",
        "    mimeType : 'audio/webm;codecs=opus'\n",
        "    //mimeType : 'audio/webm;codecs=pcm'\n",
        "  };            \n",
        "  //recorder = new MediaRecorder(stream, options);\n",
        "  recorder = new MediaRecorder(stream);\n",
        "  recorder.ondataavailable = function(e) {            \n",
        "    var url = URL.createObjectURL(e.data);\n",
        "    var preview = document.createElement('audio');\n",
        "    preview.controls = true;\n",
        "    preview.src = url;\n",
        "    document.body.appendChild(preview);\n",
        "\n",
        "    reader = new FileReader();\n",
        "    reader.readAsDataURL(e.data); \n",
        "    reader.onloadend = function() {\n",
        "      base64data = reader.result;\n",
        "      //console.log(\"Inside FileReader:\" + base64data);\n",
        "    }\n",
        "  };\n",
        "  recorder.start();\n",
        "  };\n",
        "\n",
        "recordButton.innerText = \"Recording... press to stop\";\n",
        "\n",
        "navigator.mediaDevices.getUserMedia({audio: true}).then(handleSuccess);\n",
        "\n",
        "\n",
        "function toggleRecording() {\n",
        "  if (recorder && recorder.state == \"recording\") {\n",
        "      recorder.stop();\n",
        "      gumStream.getAudioTracks()[0].stop();\n",
        "      recordButton.innerText = \"Saving the recording... pls wait!\"\n",
        "  }\n",
        "}\n",
        "\n",
        "// https://stackoverflow.com/a/951057\n",
        "function sleep(ms) {\n",
        "  return new Promise(resolve => setTimeout(resolve, ms));\n",
        "}\n",
        "\n",
        "var data = new Promise(resolve=>{\n",
        "//recordButton.addEventListener(\"click\", toggleRecording);\n",
        "recordButton.onclick = ()=>{\n",
        "toggleRecording()\n",
        "\n",
        "sleep(2000).then(() => {\n",
        "  // wait 2000ms for the data to be available...\n",
        "  // ideally this should use something like await...\n",
        "  //console.log(\"Inside data:\" + base64data)\n",
        "  resolve(base64data.toString())\n",
        "\n",
        "});\n",
        "\n",
        "}\n",
        "});\n",
        "      \n",
        "</script>\n",
        "\"\"\"\n",
        "\n",
        "def get_audio():\n",
        "  display(HTML(AUDIO_HTML))\n",
        "  data = eval_js(\"data\")\n",
        "  binary = b64decode(data.split(',')[1])\n",
        "  \n",
        "  process = (ffmpeg\n",
        "    .input('pipe:0')\n",
        "    .output('pipe:1', format='wav')\n",
        "    .run_async(pipe_stdin=True, pipe_stdout=True, pipe_stderr=True, quiet=True, overwrite_output=True)\n",
        "  )\n",
        "  output, err = process.communicate(input=binary)\n",
        "  \n",
        "  riff_chunk_size = len(output) - 8\n",
        "  # Break up the chunk size into four bytes, held in b.\n",
        "  q = riff_chunk_size\n",
        "  b = []\n",
        "  for i in range(4):\n",
        "      q, r = divmod(q, 256)\n",
        "      b.append(r)\n",
        "\n",
        "  # Replace bytes 4:8 in proc.stdout with the actual size of the RIFF chunk.\n",
        "  riff = output[:4] + bytes(b) + output[8:]\n",
        "\n",
        "  sr, audio = wav_read(io.BytesIO(riff))\n",
        "\n",
        "  return audio, sr\n"
      ],
      "execution_count": null,
      "outputs": []
    },
    {
      "cell_type": "code",
      "metadata": {
        "id": "liPhMuItrwvx"
      },
      "source": [
        "# create a speech recognition object\n",
        "r = sr.Recognizer()"
      ],
      "execution_count": null,
      "outputs": []
    },
    {
      "cell_type": "markdown",
      "metadata": {
        "id": "BKB-0mt4NirJ"
      },
      "source": [
        "Final user interface steps:\n",
        "\n",
        "1) Receive audio input from user.\n",
        "Convert the audio array into .wav file. \n",
        "\n",
        "2) Speech recognition of .wav file through get_large_audio_transcription(). [Converting it into text form]\n",
        "\n",
        "3) Searching for its answers from the processed Corpus, and returning the output.\n"
      ]
    },
    {
      "cell_type": "code",
      "metadata": {
        "colab": {
          "base_uri": "https://localhost:8080/"
        },
        "id": "dsc88-UYwr3Q",
        "outputId": "44c581db-4756-44dd-ada8-9f5953732f96"
      },
      "source": [
        "!pip3 install SpeechRecognition pydub \n",
        "# importing libraries\n",
        "!pip3 install SpeechRecognition pydub  \n",
        "import speech_recognition as sr \n",
        "import os \n",
        "from pydub import AudioSegment\n",
        "from pydub.silence import split_on_silence\n",
        "\n",
        "# create a speech recognition object\n",
        "r = sr.Recognizer()\n",
        "\n",
        "# a function that splits the audio file into chunks\n",
        "# and applies speech recognition\n",
        "def get_large_audio_transcription(path):\n",
        "    \"\"\"\n",
        "    Splitting the large audio file into chunks\n",
        "    and apply speech recognition on each of these chunks\n",
        "    \"\"\"\n",
        "    # open the audio file using pydub\n",
        "    sound = AudioSegment.from_wav(path)  \n",
        "    # split audio sound where silence is 700 miliseconds or more and get chunks\n",
        "    chunks = split_on_silence(sound,\n",
        "        # experiment with this value for your target audio file\n",
        "        min_silence_len = 500,\n",
        "        # adjust this per requirement\n",
        "        silence_thresh = sound.dBFS-14,\n",
        "        # keep the silence for 1 second, adjustable as well\n",
        "        keep_silence=500,\n",
        "    )\n",
        "    folder_name = \"audio-chunks\"\n",
        "    # create a directory to store the audio chunks\n",
        "    if not os.path.isdir(folder_name):\n",
        "        os.mkdir(folder_name)\n",
        "    whole_text = \"\"\n",
        "    # process each chunk \n",
        "    for i, audio_chunk in enumerate(chunks, start=1):\n",
        "        # export audio chunk and save it in\n",
        "        # the `folder_name` directory.\n",
        "        chunk_filename = os.path.join(folder_name, f\"chunk{i}.wav\")\n",
        "        audio_chunk.export(chunk_filename, format=\"wav\")\n",
        "        # recognize the chunk\n",
        "        with sr.AudioFile(chunk_filename) as source:\n",
        "            audio_listened = r.record(source)\n",
        "            # try converting it to text\n",
        "            try:\n",
        "                text = r.recognize_google(audio_listened)\n",
        "            except sr.UnknownValueError as e:\n",
        "                print(\"Error:\", str(e))\n",
        "            else:\n",
        "                text = f\"{text.capitalize()}. \"\n",
        "                print(chunk_filename, \":\", text)\n",
        "                whole_text += text\n",
        "    # return the text for all chunks detected\n",
        "    return whole_text\n",
        "\n",
        "#path = \"o.wav\"\n",
        "#print(\"\\nFull text:\", get_large_audio_transcription(path))"
      ],
      "execution_count": null,
      "outputs": [
        {
          "output_type": "stream",
          "text": [
            "Requirement already satisfied: SpeechRecognition in /usr/local/lib/python3.7/dist-packages (3.8.1)\n",
            "Requirement already satisfied: pydub in /usr/local/lib/python3.7/dist-packages (0.25.1)\n",
            "Requirement already satisfied: SpeechRecognition in /usr/local/lib/python3.7/dist-packages (3.8.1)\n",
            "Requirement already satisfied: pydub in /usr/local/lib/python3.7/dist-packages (0.25.1)\n"
          ],
          "name": "stdout"
        }
      ]
    },
    {
      "cell_type": "markdown",
      "metadata": {
        "id": "zQbhVEyyifD8"
      },
      "source": [
        "Part B: Speaker Recognition"
      ]
    },
    {
      "cell_type": "code",
      "metadata": {
        "colab": {
          "base_uri": "https://localhost:8080/"
        },
        "id": "DbO_uFr9ieK0",
        "outputId": "e9ac9cbe-49b6-4f92-cff5-217844479688"
      },
      "source": [
        "# Recreate the exact same model, including its weights and the optimizer\n",
        "import tensorflow as tf\n",
        "\n",
        "new_model = tf.keras.models.load_model('final_model1.h5')\n",
        "\n",
        "# Show the model architecture\n",
        "new_model.summary()"
      ],
      "execution_count": null,
      "outputs": [
        {
          "output_type": "stream",
          "text": [
            "Model: \"model\"\n",
            "__________________________________________________________________________________________________\n",
            "Layer (type)                    Output Shape         Param #     Connected to                     \n",
            "==================================================================================================\n",
            "input (InputLayer)              [(None, 8000, 1)]    0                                            \n",
            "__________________________________________________________________________________________________\n",
            "conv1d_1 (Conv1D)               (None, 8000, 16)     64          input[0][0]                      \n",
            "__________________________________________________________________________________________________\n",
            "activation (Activation)         (None, 8000, 16)     0           conv1d_1[0][0]                   \n",
            "__________________________________________________________________________________________________\n",
            "conv1d_2 (Conv1D)               (None, 8000, 16)     784         activation[0][0]                 \n",
            "__________________________________________________________________________________________________\n",
            "conv1d (Conv1D)                 (None, 8000, 16)     32          input[0][0]                      \n",
            "__________________________________________________________________________________________________\n",
            "add (Add)                       (None, 8000, 16)     0           conv1d_2[0][0]                   \n",
            "                                                                 conv1d[0][0]                     \n",
            "__________________________________________________________________________________________________\n",
            "activation_1 (Activation)       (None, 8000, 16)     0           add[0][0]                        \n",
            "__________________________________________________________________________________________________\n",
            "max_pooling1d (MaxPooling1D)    (None, 4000, 16)     0           activation_1[0][0]               \n",
            "__________________________________________________________________________________________________\n",
            "conv1d_4 (Conv1D)               (None, 4000, 32)     1568        max_pooling1d[0][0]              \n",
            "__________________________________________________________________________________________________\n",
            "activation_2 (Activation)       (None, 4000, 32)     0           conv1d_4[0][0]                   \n",
            "__________________________________________________________________________________________________\n",
            "conv1d_5 (Conv1D)               (None, 4000, 32)     3104        activation_2[0][0]               \n",
            "__________________________________________________________________________________________________\n",
            "conv1d_3 (Conv1D)               (None, 4000, 32)     544         max_pooling1d[0][0]              \n",
            "__________________________________________________________________________________________________\n",
            "add_1 (Add)                     (None, 4000, 32)     0           conv1d_5[0][0]                   \n",
            "                                                                 conv1d_3[0][0]                   \n",
            "__________________________________________________________________________________________________\n",
            "activation_3 (Activation)       (None, 4000, 32)     0           add_1[0][0]                      \n",
            "__________________________________________________________________________________________________\n",
            "max_pooling1d_1 (MaxPooling1D)  (None, 2000, 32)     0           activation_3[0][0]               \n",
            "__________________________________________________________________________________________________\n",
            "conv1d_7 (Conv1D)               (None, 2000, 64)     6208        max_pooling1d_1[0][0]            \n",
            "__________________________________________________________________________________________________\n",
            "activation_4 (Activation)       (None, 2000, 64)     0           conv1d_7[0][0]                   \n",
            "__________________________________________________________________________________________________\n",
            "conv1d_8 (Conv1D)               (None, 2000, 64)     12352       activation_4[0][0]               \n",
            "__________________________________________________________________________________________________\n",
            "activation_5 (Activation)       (None, 2000, 64)     0           conv1d_8[0][0]                   \n",
            "__________________________________________________________________________________________________\n",
            "conv1d_9 (Conv1D)               (None, 2000, 64)     12352       activation_5[0][0]               \n",
            "__________________________________________________________________________________________________\n",
            "conv1d_6 (Conv1D)               (None, 2000, 64)     2112        max_pooling1d_1[0][0]            \n",
            "__________________________________________________________________________________________________\n",
            "add_2 (Add)                     (None, 2000, 64)     0           conv1d_9[0][0]                   \n",
            "                                                                 conv1d_6[0][0]                   \n",
            "__________________________________________________________________________________________________\n",
            "activation_6 (Activation)       (None, 2000, 64)     0           add_2[0][0]                      \n",
            "__________________________________________________________________________________________________\n",
            "max_pooling1d_2 (MaxPooling1D)  (None, 1000, 64)     0           activation_6[0][0]               \n",
            "__________________________________________________________________________________________________\n",
            "conv1d_11 (Conv1D)              (None, 1000, 128)    24704       max_pooling1d_2[0][0]            \n",
            "__________________________________________________________________________________________________\n",
            "activation_7 (Activation)       (None, 1000, 128)    0           conv1d_11[0][0]                  \n",
            "__________________________________________________________________________________________________\n",
            "conv1d_12 (Conv1D)              (None, 1000, 128)    49280       activation_7[0][0]               \n",
            "__________________________________________________________________________________________________\n",
            "activation_8 (Activation)       (None, 1000, 128)    0           conv1d_12[0][0]                  \n",
            "__________________________________________________________________________________________________\n",
            "conv1d_13 (Conv1D)              (None, 1000, 128)    49280       activation_8[0][0]               \n",
            "__________________________________________________________________________________________________\n",
            "conv1d_10 (Conv1D)              (None, 1000, 128)    8320        max_pooling1d_2[0][0]            \n",
            "__________________________________________________________________________________________________\n",
            "add_3 (Add)                     (None, 1000, 128)    0           conv1d_13[0][0]                  \n",
            "                                                                 conv1d_10[0][0]                  \n",
            "__________________________________________________________________________________________________\n",
            "activation_9 (Activation)       (None, 1000, 128)    0           add_3[0][0]                      \n",
            "__________________________________________________________________________________________________\n",
            "max_pooling1d_3 (MaxPooling1D)  (None, 500, 128)     0           activation_9[0][0]               \n",
            "__________________________________________________________________________________________________\n",
            "conv1d_15 (Conv1D)              (None, 500, 128)     49280       max_pooling1d_3[0][0]            \n",
            "__________________________________________________________________________________________________\n",
            "activation_10 (Activation)      (None, 500, 128)     0           conv1d_15[0][0]                  \n",
            "__________________________________________________________________________________________________\n",
            "conv1d_16 (Conv1D)              (None, 500, 128)     49280       activation_10[0][0]              \n",
            "__________________________________________________________________________________________________\n",
            "activation_11 (Activation)      (None, 500, 128)     0           conv1d_16[0][0]                  \n",
            "__________________________________________________________________________________________________\n",
            "conv1d_17 (Conv1D)              (None, 500, 128)     49280       activation_11[0][0]              \n",
            "__________________________________________________________________________________________________\n",
            "conv1d_14 (Conv1D)              (None, 500, 128)     16512       max_pooling1d_3[0][0]            \n",
            "__________________________________________________________________________________________________\n",
            "add_4 (Add)                     (None, 500, 128)     0           conv1d_17[0][0]                  \n",
            "                                                                 conv1d_14[0][0]                  \n",
            "__________________________________________________________________________________________________\n",
            "activation_12 (Activation)      (None, 500, 128)     0           add_4[0][0]                      \n",
            "__________________________________________________________________________________________________\n",
            "max_pooling1d_4 (MaxPooling1D)  (None, 250, 128)     0           activation_12[0][0]              \n",
            "__________________________________________________________________________________________________\n",
            "average_pooling1d (AveragePooli (None, 83, 128)      0           max_pooling1d_4[0][0]            \n",
            "__________________________________________________________________________________________________\n",
            "flatten (Flatten)               (None, 10624)        0           average_pooling1d[0][0]          \n",
            "__________________________________________________________________________________________________\n",
            "dense (Dense)                   (None, 256)          2720000     flatten[0][0]                    \n",
            "__________________________________________________________________________________________________\n",
            "dense_1 (Dense)                 (None, 128)          32896       dense[0][0]                      \n",
            "__________________________________________________________________________________________________\n",
            "output (Dense)                  (None, 5)            645         dense_1[0][0]                    \n",
            "==================================================================================================\n",
            "Total params: 3,088,597\n",
            "Trainable params: 3,088,597\n",
            "Non-trainable params: 0\n",
            "__________________________________________________________________________________________________\n"
          ],
          "name": "stdout"
        }
      ]
    },
    {
      "cell_type": "code",
      "metadata": {
        "colab": {
          "base_uri": "https://localhost:8080/"
        },
        "id": "_HUp7YNFlGQB",
        "outputId": "40b02c89-7ee7-499c-afe7-2daa67fadf37"
      },
      "source": [
        "from google.colab import drive\n",
        "drive.mount('/content/drive')\n"
      ],
      "execution_count": null,
      "outputs": [
        {
          "output_type": "stream",
          "text": [
            "Mounted at /content/drive\n"
          ],
          "name": "stdout"
        }
      ]
    },
    {
      "cell_type": "code",
      "metadata": {
        "id": "ioKRa4Vcs4kS"
      },
      "source": [
        "import os\n",
        "import shutil\n",
        "import numpy as np\n",
        "\n",
        "import tensorflow as tf\n",
        "from tensorflow import keras\n",
        "\n",
        "from pathlib import Path\n",
        "from IPython.display import display, Audio\n",
        "\n",
        "# Get the data from https://www.kaggle.com/kongaevans/speaker-recognition-dataset/download\n",
        "# and save it to the 'Downloads' folder in your HOME directory\n",
        "DATASET_ROOT = os.path.join(\"/content/drive/MyDrive/16000_pcm_speeches\")\n",
        "\n",
        "# The folders in which we will put the audio samples and the noise samples\n",
        "AUDIO_SUBFOLDER = \"audio\"\n",
        "NOISE_SUBFOLDER = \"noise\"\n",
        "\n",
        "DATASET_AUDIO_PATH = os.path.join(DATASET_ROOT, AUDIO_SUBFOLDER)\n",
        "DATASET_NOISE_PATH = os.path.join(DATASET_ROOT, NOISE_SUBFOLDER)\n",
        "\n",
        "# Percentage of samples to use for validation\n",
        "VALID_SPLIT = 0.1\n",
        "\n",
        "# Seed to use when shuffling the dataset and the noise\n",
        "SHUFFLE_SEED = 43\n",
        "\n",
        "# The sampling rate to use.\n",
        "# This is the one used in all of the audio samples.\n",
        "# We will resample all of the noise to this sampling rate.\n",
        "# This will also be the output size of the audio wave samples\n",
        "# (since all samples are of 1 second long)\n",
        "SAMPLING_RATE = 16000\n",
        "\n",
        "# The factor to multiply the noise with according to:\n",
        "#   noisy_sample = sample + noise * prop * scale\n",
        "#      where prop = sample_amplitude / noise_amplitude\n",
        "SCALE = 0.5\n",
        "\n",
        "BATCH_SIZE = 128\n",
        "EPOCHS = 100\n"
      ],
      "execution_count": null,
      "outputs": []
    },
    {
      "cell_type": "code",
      "metadata": {
        "id": "FEPYl6KUuYB0"
      },
      "source": [
        "# If folder `audio`, does not exist, create it, otherwise do nothing\n",
        "if os.path.exists(DATASET_AUDIO_PATH) is False:\n",
        "    os.makedirs(DATASET_AUDIO_PATH)\n",
        "\n",
        "# If folder `noise`, does not exist, create it, otherwise do nothing\n",
        "if os.path.exists(DATASET_NOISE_PATH) is False:\n",
        "    os.makedirs(DATASET_NOISE_PATH)\n",
        "\n",
        "for folder in os.listdir(DATASET_ROOT):\n",
        "    if os.path.isdir(os.path.join(DATASET_ROOT, folder)):\n",
        "        if folder in [AUDIO_SUBFOLDER, NOISE_SUBFOLDER]:\n",
        "            # If folder is `audio` or `noise`, do nothing\n",
        "            continue\n",
        "        elif folder in [\"other\", \"_background_noise_\"]:\n",
        "            # If folder is one of the folders that contains noise samples,\n",
        "            # move it to the `noise` folder\n",
        "            shutil.move(\n",
        "                os.path.join(DATASET_ROOT, folder),\n",
        "                os.path.join(DATASET_NOISE_PATH, folder),\n",
        "            )\n",
        "        else:\n",
        "            # Otherwise, it should be a speaker folder, then move it to\n",
        "            # `audio` folder\n",
        "            shutil.move(\n",
        "                os.path.join(DATASET_ROOT, folder),\n",
        "                os.path.join(DATASET_AUDIO_PATH, folder),\n",
        "            )"
      ],
      "execution_count": null,
      "outputs": []
    },
    {
      "cell_type": "code",
      "metadata": {
        "colab": {
          "base_uri": "https://localhost:8080/"
        },
        "id": "fKuT8trmtyGW",
        "outputId": "d35f5898-cb71-4a7b-b298-519455fe80e4"
      },
      "source": [
        "# Get the list of all noise files\n",
        "noise_paths = []\n",
        "for subdir in tf.io.gfile.listdir(DATASET_NOISE_PATH):\n",
        "    subdir_path = Path(DATASET_NOISE_PATH) / subdir\n",
        "    if os.path.isdir(subdir_path):\n",
        "        noise_paths += [\n",
        "            os.path.join(subdir_path, filepath)\n",
        "            for filepath in os.listdir(subdir_path)\n",
        "            if filepath.endswith(\".wav\")\n",
        "        ]\n",
        "\n",
        "print(\n",
        "    \"Found {} files belonging to {} directories\".format(\n",
        "        len(noise_paths), len(os.listdir(DATASET_NOISE_PATH))\n",
        "    )\n",
        ")"
      ],
      "execution_count": null,
      "outputs": [
        {
          "output_type": "stream",
          "text": [
            "Found 6 files belonging to 2 directories\n"
          ],
          "name": "stdout"
        }
      ]
    },
    {
      "cell_type": "code",
      "metadata": {
        "colab": {
          "base_uri": "https://localhost:8080/"
        },
        "id": "DW1qzHDRuryp",
        "outputId": "82cec0e9-43bf-45b4-cc93-da6e0c702b22"
      },
      "source": [
        "command = (\n",
        "    \"for dir in `ls -1 \" + DATASET_NOISE_PATH + \"`; do \"\n",
        "    \"for file in `ls -1 \" + DATASET_NOISE_PATH + \"/$dir/*.wav`; do \"\n",
        "    \"sample_rate=`ffprobe -hide_banner -loglevel panic -show_streams \"\n",
        "    \"$file | grep sample_rate | cut -f2 -d=`; \"\n",
        "    \"if [ $sample_rate -ne 16000 ]; then \"\n",
        "    \"ffmpeg -hide_banner -loglevel panic -y \"\n",
        "    \"-i $file -ar 16000 temp.wav; \"\n",
        "    \"mv temp.wav $file; \"\n",
        "    \"fi; done; done\"\n",
        ")\n",
        "os.system(command)\n",
        "\n",
        "# Split noise into chunks of 16,000 steps each\n",
        "def load_noise_sample(path):\n",
        "    sample, sampling_rate = tf.audio.decode_wav(\n",
        "        tf.io.read_file(path), desired_channels=1\n",
        "    )\n",
        "    if sampling_rate == SAMPLING_RATE:\n",
        "        # Number of slices of 16000 each that can be generated from the noise sample\n",
        "        slices = int(sample.shape[0] / SAMPLING_RATE)\n",
        "        sample = tf.split(sample[: slices * SAMPLING_RATE], slices)\n",
        "        return sample\n",
        "    else:\n",
        "        print(\"Sampling rate for {} is incorrect. Ignoring it\".format(path))\n",
        "        return None\n",
        "\n",
        "\n",
        "noises = []\n",
        "for path in noise_paths:\n",
        "    sample = load_noise_sample(path)\n",
        "    if sample:\n",
        "        noises.extend(sample)\n",
        "noises = tf.stack(noises)\n",
        "\n",
        "print(\n",
        "    \"{} noise files were split into {} noise samples where each is {} sec. long\".format(\n",
        "        len(noise_paths), noises.shape[0], noises.shape[1] // SAMPLING_RATE\n",
        "    )\n",
        ")"
      ],
      "execution_count": null,
      "outputs": [
        {
          "output_type": "stream",
          "text": [
            "6 noise files were split into 354 noise samples where each is 1 sec. long\n"
          ],
          "name": "stdout"
        }
      ]
    },
    {
      "cell_type": "code",
      "metadata": {
        "colab": {
          "base_uri": "https://localhost:8080/"
        },
        "id": "-NRkskQxvUxc",
        "outputId": "7fcb08c5-9ab3-4ea3-8cbd-55eacbba0240"
      },
      "source": [
        "def paths_and_labels_to_dataset(audio_paths, labels):\n",
        "    \"\"\"Constructs a dataset of audios and labels.\"\"\"\n",
        "    path_ds = tf.data.Dataset.from_tensor_slices(audio_paths)\n",
        "    audio_ds = path_ds.map(lambda x: path_to_audio(x))\n",
        "    label_ds = tf.data.Dataset.from_tensor_slices(labels)\n",
        "    return tf.data.Dataset.zip((audio_ds, label_ds))\n",
        "\n",
        "\n",
        "def path_to_audio(path):\n",
        "    \"\"\"Reads and decodes an audio file.\"\"\"\n",
        "    audio = tf.io.read_file(path)\n",
        "    audio, _ = tf.audio.decode_wav(audio, 1, SAMPLING_RATE)\n",
        "    return audio\n",
        "\n",
        "\n",
        "def add_noise(audio, noises=None, scale=0.5):\n",
        "    if noises is not None:\n",
        "        # Create a random tensor of the same size as audio ranging from\n",
        "        # 0 to the number of noise stream samples that we have.\n",
        "        tf_rnd = tf.random.uniform(\n",
        "            (tf.shape(audio)[0],), 0, noises.shape[0], dtype=tf.int32\n",
        "        )\n",
        "        noise = tf.gather(noises, tf_rnd, axis=0)\n",
        "\n",
        "        # Get the amplitude proportion between the audio and the noise\n",
        "        prop = tf.math.reduce_max(audio, axis=1) / tf.math.reduce_max(noise, axis=1)\n",
        "        prop = tf.repeat(tf.expand_dims(prop, axis=1), tf.shape(audio)[1], axis=1)\n",
        "\n",
        "        # Adding the rescaled noise to audio\n",
        "        audio = audio + noise * prop * scale\n",
        "\n",
        "    return audio\n",
        "\n",
        "\n",
        "def audio_to_fft(audio):\n",
        "    # Since tf.signal.fft applies FFT on the innermost dimension,\n",
        "    # we need to squeeze the dimensions and then expand them again\n",
        "    # after FFT\n",
        "    audio = tf.squeeze(audio, axis=-1)\n",
        "    fft = tf.signal.fft(\n",
        "        tf.cast(tf.complex(real=audio, imag=tf.zeros_like(audio)), tf.complex64)\n",
        "    )\n",
        "    fft = tf.expand_dims(fft, axis=-1)\n",
        "\n",
        "    # Return the absolute value of the first half of the FFT\n",
        "    # which represents the positive frequencies\n",
        "    return tf.math.abs(fft[:, : (audio.shape[1] // 2), :])\n",
        "\n",
        "\n",
        "# Get the list of audio file paths along with their corresponding labels\n",
        "\n",
        "class_names = os.listdir(DATASET_AUDIO_PATH)\n",
        "print(\"Our class names: {}\".format(class_names,))\n",
        "\n",
        "audio_paths = []\n",
        "labels = []\n",
        "for label, name in enumerate(class_names):\n",
        "    print(\"Processing speaker {}\".format(name,))\n",
        "    dir_path = Path(DATASET_AUDIO_PATH) / name\n",
        "    speaker_sample_paths = [\n",
        "        os.path.join(dir_path, filepath)\n",
        "        for filepath in os.listdir(dir_path)\n",
        "        if filepath.endswith(\".wav\")\n",
        "    ]\n",
        "    audio_paths += speaker_sample_paths\n",
        "    labels += [label] * len(speaker_sample_paths)\n",
        "\n",
        "print(\n",
        "    \"Found {} files belonging to {} classes.\".format(len(audio_paths), len(class_names))\n",
        ")\n",
        "\n",
        "# Shuffle\n",
        "rng = np.random.RandomState(SHUFFLE_SEED)\n",
        "rng.shuffle(audio_paths)\n",
        "rng = np.random.RandomState(SHUFFLE_SEED)\n",
        "rng.shuffle(labels)\n",
        "\n",
        "# Split into training and validation\n",
        "num_val_samples = int(VALID_SPLIT * len(audio_paths))\n",
        "print(\"Using {} files for training.\".format(len(audio_paths) - num_val_samples))\n",
        "train_audio_paths = audio_paths[:-num_val_samples]\n",
        "train_labels = labels[:-num_val_samples]\n",
        "\n",
        "print(\"Using {} files for validation.\".format(num_val_samples))\n",
        "valid_audio_paths = audio_paths[-num_val_samples:]\n",
        "valid_labels = labels[-num_val_samples:]\n",
        "\n",
        "# Create 2 datasets, one for training and the other for validation\n",
        "train_ds = paths_and_labels_to_dataset(train_audio_paths, train_labels)\n",
        "train_ds = train_ds.shuffle(buffer_size=BATCH_SIZE * 8, seed=SHUFFLE_SEED).batch(\n",
        "    BATCH_SIZE\n",
        ")\n",
        "\n",
        "valid_ds = paths_and_labels_to_dataset(valid_audio_paths, valid_labels)\n",
        "valid_ds = valid_ds.shuffle(buffer_size=32 * 8, seed=SHUFFLE_SEED).batch(32)\n",
        "\n",
        "\n",
        "# Add noise to the training set\n",
        "train_ds = train_ds.map(\n",
        "    lambda x, y: (add_noise(x, noises, scale=SCALE), y),\n",
        "    num_parallel_calls=tf.data.experimental.AUTOTUNE,\n",
        ")\n",
        "\n",
        "# Transform audio wave to the frequency domain using `audio_to_fft`\n",
        "train_ds = train_ds.map(\n",
        "    lambda x, y: (audio_to_fft(x), y), num_parallel_calls=tf.data.experimental.AUTOTUNE\n",
        ")\n",
        "train_ds = train_ds.prefetch(tf.data.experimental.AUTOTUNE)\n",
        "\n",
        "valid_ds = valid_ds.map(\n",
        "    lambda x, y: (audio_to_fft(x), y), num_parallel_calls=tf.data.experimental.AUTOTUNE\n",
        ")\n",
        "valid_ds = valid_ds.prefetch(tf.data.experimental.AUTOTUNE)"
      ],
      "execution_count": null,
      "outputs": [
        {
          "output_type": "stream",
          "text": [
            "Our class names: ['Magaret_Tarcher', 'Nelson_Mandela', 'Jens_Stoltenberg', 'Julia_Gillard', 'Benjamin_Netanyau']\n",
            "Processing speaker Magaret_Tarcher\n",
            "Processing speaker Nelson_Mandela\n",
            "Processing speaker Jens_Stoltenberg\n",
            "Processing speaker Julia_Gillard\n",
            "Processing speaker Benjamin_Netanyau\n",
            "Found 7119 files belonging to 5 classes.\n",
            "Using 6408 files for training.\n",
            "Using 711 files for validation.\n"
          ],
          "name": "stdout"
        }
      ]
    },
    {
      "cell_type": "markdown",
      "metadata": {
        "id": "m7Td-t1rvr6c"
      },
      "source": [
        "Demo"
      ]
    },
    {
      "cell_type": "code",
      "metadata": {
        "id": "OjmvaQCZ0kYD"
      },
      "source": [
        "def speaker_rec(SAMPLES_TO_DISPLAY):\n",
        "#SAMPLES_TO_DISPLAY = 10\n",
        "\n",
        "    test_ds = paths_and_labels_to_dataset(valid_audio_paths, valid_labels)\n",
        "    test_ds = test_ds.shuffle(buffer_size=BATCH_SIZE * 8, seed=SHUFFLE_SEED).batch(\n",
        "        BATCH_SIZE\n",
        "    )\n",
        "\n",
        "    test_ds = test_ds.map(lambda x, y: (add_noise(x, noises, scale=SCALE), y))\n",
        "\n",
        "    for audios, labels in test_ds.take(1):\n",
        "        # Get the signal FFT\n",
        "        ffts = audio_to_fft(audios)\n",
        "        # Predict\n",
        "        y_pred = new_model.predict(ffts)\n",
        "        # Take random samples\n",
        "        rnd = np.random.randint(0, BATCH_SIZE, SAMPLES_TO_DISPLAY)\n",
        "        audios = audios.numpy()[rnd, :, :]\n",
        "        labels = labels.numpy()[rnd]\n",
        "        y_pred = np.argmax(y_pred, axis=-1)[rnd]\n",
        "\n",
        "        for index in range(SAMPLES_TO_DISPLAY):\n",
        "            # For every sample, print the true and predicted label\n",
        "            # as well as run the voice with the noise\n",
        "            print(\n",
        "                \"Speaker:\\33{} {}\\33[0m\\tPredicted:\\33{} {}\\33[0m\".format(\n",
        "                    \"[92m\" if labels[index] == y_pred[index] else \"[91m\",\n",
        "                    class_names[labels[index]],\n",
        "                    \"[92m\" if labels[index] == y_pred[index] else \"[91m\",\n",
        "                    class_names[y_pred[index]],\n",
        "                )\n",
        "            )\n",
        "            display(Audio(audios[index, :, :].squeeze(), rate=SAMPLING_RATE))"
      ],
      "execution_count": null,
      "outputs": []
    },
    {
      "cell_type": "markdown",
      "metadata": {
        "id": "FHTGqWcXwzQn"
      },
      "source": [
        "Chatbot Working"
      ]
    },
    {
      "cell_type": "code",
      "metadata": {
        "colab": {
          "base_uri": "https://localhost:8080/",
          "height": 408
        },
        "id": "yGD_U0a1oCe8",
        "outputId": "0c0c7350-1fc9-4b4e-b4b1-2d9db35cef16"
      },
      "source": [
        "print('Which Option do you want to choose? 1. Speaker Recognition 2. Answer my question')\n",
        "x = input()\n",
        "if x=='1':\n",
        "    print(\"You have choosen Option 1\")\n",
        "    print(\"How many samples do you want me to recognize?\")\n",
        "    ans = input()\n",
        "    speaker_rec(int(ans))\n",
        "\n",
        "    print(\"Thank you\")\n",
        "else:\n",
        "    print(\"You have choosen Option 2\")\n",
        "    print(\"What is your question\")\n",
        "    audio,s= get_audio()\n",
        "    fs = s\n",
        "    out_f = 'o.wav'\n",
        "    wavf.write(out_f, fs, audio)\n",
        "    print('Recording Done, Please move below')\n",
        "\n",
        "    path = \"o.wav\"\n",
        "    print(\"\\nFull text:\", get_large_audio_transcription(path))\n",
        "    a=get_large_audio_transcription(path)\n",
        "    print(\"Speech Recognition:\")\n",
        "    print(a)\n",
        "\n",
        "\n",
        "    \n",
        "    flag=True\n",
        "    # Taking voice input and processing \n",
        "    while(flag==True):\n",
        "        user_response = format(a)\n",
        "        print(\"\\033[91m {}\\033[00m\" .format(\"YOU SAID : \"+user_response))\n",
        "            \n",
        "            #user_response = input()\n",
        "            #user_response=user_response.lower()\n",
        "        clas=classifier.classify(dialogue_act_features(user_response))\n",
        "        if(clas!='Bye'):\n",
        "            if(clas=='Emotion'):\n",
        "                flag=False\n",
        "                prBlack(\"Kalpana: You are welcome..\")\n",
        "                ans=\"Kalpana: You are welcome..\"\n",
        "            else:\n",
        "                if(greeting(user_response)!=None):\n",
        "                    flag=False\n",
        "                    print(\"\\033[93m {}\\033[00m\" .format(\"Kalpana: \"+greeting(user_response)))\n",
        "                    ans=greeting(user_response)\n",
        "                else:\n",
        "                    print(\"\\033[93m {}\\033[00m\" .format(\"Kalpana: \",end=\"\"))\n",
        "                    res=(response(user_response))\n",
        "                    ans=res\n",
        "                    prBlack(res)\n",
        "                    sent_tokens.remove(user_response)\n",
        "                    flag=False\n",
        "\n",
        "        else:\n",
        "            flag=False\n",
        "            prBlack(\"Kalpana: Bye! take care..\")\n",
        "\n",
        "    ans=gTTS(ans)\n",
        "    ans.save('file1.mp3') #save the string converted to speech as a .wav file\n",
        "    sound_file = 'file1.mp3'\n",
        "    display(Audio(sound_file, autoplay=True))\n",
        "      "
      ],
      "execution_count": null,
      "outputs": [
        {
          "output_type": "stream",
          "text": [
            "Which Option do you want to choose? 1. Speaker Recognition 2. Answer my question\n",
            "2\n",
            "You have choosen Option 2\n",
            "What is your question\n"
          ],
          "name": "stdout"
        },
        {
          "output_type": "display_data",
          "data": {
            "text/html": [
              "\n",
              "<script>\n",
              "var my_div = document.createElement(\"DIV\");\n",
              "var my_p = document.createElement(\"P\");\n",
              "var my_btn = document.createElement(\"BUTTON\");\n",
              "var t = document.createTextNode(\"Press to start recording\");\n",
              "\n",
              "my_btn.appendChild(t);\n",
              "//my_p.appendChild(my_btn);\n",
              "my_div.appendChild(my_btn);\n",
              "document.body.appendChild(my_div);\n",
              "\n",
              "var base64data = 0;\n",
              "var reader;\n",
              "var recorder, gumStream;\n",
              "var recordButton = my_btn;\n",
              "\n",
              "var handleSuccess = function(stream) {\n",
              "  gumStream = stream;\n",
              "  var options = {\n",
              "    //bitsPerSecond: 8000, //chrome seems to ignore, always 48k\n",
              "    mimeType : 'audio/webm;codecs=opus'\n",
              "    //mimeType : 'audio/webm;codecs=pcm'\n",
              "  };            \n",
              "  //recorder = new MediaRecorder(stream, options);\n",
              "  recorder = new MediaRecorder(stream);\n",
              "  recorder.ondataavailable = function(e) {            \n",
              "    var url = URL.createObjectURL(e.data);\n",
              "    var preview = document.createElement('audio');\n",
              "    preview.controls = true;\n",
              "    preview.src = url;\n",
              "    document.body.appendChild(preview);\n",
              "\n",
              "    reader = new FileReader();\n",
              "    reader.readAsDataURL(e.data); \n",
              "    reader.onloadend = function() {\n",
              "      base64data = reader.result;\n",
              "      //console.log(\"Inside FileReader:\" + base64data);\n",
              "    }\n",
              "  };\n",
              "  recorder.start();\n",
              "  };\n",
              "\n",
              "recordButton.innerText = \"Recording... press to stop\";\n",
              "\n",
              "navigator.mediaDevices.getUserMedia({audio: true}).then(handleSuccess);\n",
              "\n",
              "\n",
              "function toggleRecording() {\n",
              "  if (recorder && recorder.state == \"recording\") {\n",
              "      recorder.stop();\n",
              "      gumStream.getAudioTracks()[0].stop();\n",
              "      recordButton.innerText = \"Saving the recording... pls wait!\"\n",
              "  }\n",
              "}\n",
              "\n",
              "// https://stackoverflow.com/a/951057\n",
              "function sleep(ms) {\n",
              "  return new Promise(resolve => setTimeout(resolve, ms));\n",
              "}\n",
              "\n",
              "var data = new Promise(resolve=>{\n",
              "//recordButton.addEventListener(\"click\", toggleRecording);\n",
              "recordButton.onclick = ()=>{\n",
              "toggleRecording()\n",
              "\n",
              "sleep(2000).then(() => {\n",
              "  // wait 2000ms for the data to be available...\n",
              "  // ideally this should use something like await...\n",
              "  //console.log(\"Inside data:\" + base64data)\n",
              "  resolve(base64data.toString())\n",
              "\n",
              "});\n",
              "\n",
              "}\n",
              "});\n",
              "      \n",
              "</script>\n"
            ],
            "text/plain": [
              "<IPython.core.display.HTML object>"
            ]
          },
          "metadata": {
            "tags": []
          }
        },
        {
          "output_type": "stream",
          "text": [
            "Recording Done, Please move below\n",
            "audio-chunks/chunk1.wav : What is a chatterbot. \n",
            "\n",
            "Full text: What is a chatterbot. \n",
            "audio-chunks/chunk1.wav : What is a chatterbot. \n",
            "Speech Recognition:\n",
            "What is a chatterbot. \n",
            "\u001b[91m YOU SAID : What is a chatterbot. \u001b[00m\n",
            "\u001b[93m Kalpana: \u001b[00m\n",
            "\u001b[98m the term \"chatterbot\" was originally coined by michael mauldin (creator of the first verbot, julia) in 1994 to describe these conversational programs.\u001b[00m\n"
          ],
          "name": "stdout"
        },
        {
          "output_type": "display_data",
          "data": {
            "text/html": [
              "\n",
              "                <audio controls=\"controls\" autoplay=\"autoplay\">\n",
              "                    <source src=\"data:audio/mpeg;base64,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\" type=\"audio/mpeg\" />\n",
              "                    Your browser does not support the audio element.\n",
              "                </audio>\n",
              "              "
            ],
            "text/plain": [
              "<IPython.lib.display.Audio object>"
            ]
          },
          "metadata": {
            "tags": []
          }
        }
      ]
    }
  ]
}